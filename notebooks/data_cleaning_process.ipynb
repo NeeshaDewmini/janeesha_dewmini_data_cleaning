{
  "nbformat": 4,
  "nbformat_minor": 0,
  "metadata": {
    "colab": {
      "provenance": []
    },
    "kernelspec": {
      "name": "python3",
      "display_name": "Python 3"
    },
    "language_info": {
      "name": "python"
    }
  },
  "cells": [
    {
      "cell_type": "markdown",
      "source": [
        "#**Data Cleaning Class Task**"
      ],
      "metadata": {
        "id": "RQbnsaz-xrT9"
      }
    },
    {
      "cell_type": "code",
      "execution_count": 2,
      "metadata": {
        "id": "jNIaE3pLwFNh"
      },
      "outputs": [],
      "source": [
        "import pandas as pd\n",
        "import numpy as np\n",
        "import matplotlib.pyplot as plt\n",
        "import seaborn as sns\n",
        "from datetime import datetime\n",
        "import warnings\n",
        "warnings.filterwarnings('ignore')"
      ]
    },
    {
      "cell_type": "markdown",
      "source": [
        "###Task 1: Data Exploration and Assessment"
      ],
      "metadata": {
        "id": "cfHCPlXMyWR6"
      }
    },
    {
      "cell_type": "markdown",
      "source": [
        "####Task 1.1: Initial Data Inspection"
      ],
      "metadata": {
        "id": "DXqWmv80ye4w"
      }
    },
    {
      "cell_type": "code",
      "source": [
        "df = pd.read_csv(\"/content/hotel_bookings.csv\")"
      ],
      "metadata": {
        "id": "Ge3kfHIqwoRn"
      },
      "execution_count": 3,
      "outputs": []
    },
    {
      "cell_type": "code",
      "source": [
        "print(\"Dataset Shape:\", df.shape)"
      ],
      "metadata": {
        "colab": {
          "base_uri": "https://localhost:8080/"
        },
        "id": "HyoWpjbNyyMp",
        "outputId": "174285a9-17e6-4381-c297-d62b5c9a46d7"
      },
      "execution_count": 4,
      "outputs": [
        {
          "output_type": "stream",
          "name": "stdout",
          "text": [
            "Dataset Shape: (119390, 32)\n"
          ]
        }
      ]
    },
    {
      "cell_type": "code",
      "source": [
        "print(\"Dataset Types:\", df.dtypes)"
      ],
      "metadata": {
        "colab": {
          "base_uri": "https://localhost:8080/"
        },
        "id": "xYyhRr8UzMB8",
        "outputId": "0843fa95-9ea4-449a-f0e7-62019a2684ac"
      },
      "execution_count": 5,
      "outputs": [
        {
          "output_type": "stream",
          "name": "stdout",
          "text": [
            "Dataset Types: hotel                              object\n",
            "is_canceled                         int64\n",
            "lead_time                           int64\n",
            "arrival_date_year                   int64\n",
            "arrival_date_month                 object\n",
            "arrival_date_week_number            int64\n",
            "arrival_date_day_of_month           int64\n",
            "stays_in_weekend_nights             int64\n",
            "stays_in_week_nights                int64\n",
            "adults                              int64\n",
            "children                          float64\n",
            "babies                              int64\n",
            "meal                               object\n",
            "country                            object\n",
            "market_segment                     object\n",
            "distribution_channel               object\n",
            "is_repeated_guest                   int64\n",
            "previous_cancellations              int64\n",
            "previous_bookings_not_canceled      int64\n",
            "reserved_room_type                 object\n",
            "assigned_room_type                 object\n",
            "booking_changes                     int64\n",
            "deposit_type                       object\n",
            "agent                             float64\n",
            "company                           float64\n",
            "days_in_waiting_list                int64\n",
            "customer_type                      object\n",
            "adr                               float64\n",
            "required_car_parking_spaces         int64\n",
            "total_of_special_requests           int64\n",
            "reservation_status                 object\n",
            "reservation_status_date            object\n",
            "dtype: object\n"
          ]
        }
      ]
    },
    {
      "cell_type": "code",
      "source": [
        "print(\"First five rows of the Dataset: \")\n",
        "df.head()"
      ],
      "metadata": {
        "colab": {
          "base_uri": "https://localhost:8080/",
          "height": 359
        },
        "id": "V5DmAEpqz8nM",
        "outputId": "ebf1221b-2a0e-4c83-9443-4dbb2aba17a0"
      },
      "execution_count": 6,
      "outputs": [
        {
          "output_type": "stream",
          "name": "stdout",
          "text": [
            "First five rows of the Dataset: \n"
          ]
        },
        {
          "output_type": "execute_result",
          "data": {
            "text/plain": [
              "          hotel  is_canceled  lead_time  arrival_date_year arrival_date_month  \\\n",
              "0  Resort Hotel            0        342               2015               July   \n",
              "1  Resort Hotel            0        737               2015               July   \n",
              "2  Resort Hotel            0          7               2015               July   \n",
              "3  Resort Hotel            0         13               2015               July   \n",
              "4  Resort Hotel            0         14               2015               July   \n",
              "\n",
              "   arrival_date_week_number  arrival_date_day_of_month  \\\n",
              "0                        27                          1   \n",
              "1                        27                          1   \n",
              "2                        27                          1   \n",
              "3                        27                          1   \n",
              "4                        27                          1   \n",
              "\n",
              "   stays_in_weekend_nights  stays_in_week_nights  adults  ...  deposit_type  \\\n",
              "0                        0                     0       2  ...    No Deposit   \n",
              "1                        0                     0       2  ...    No Deposit   \n",
              "2                        0                     1       1  ...    No Deposit   \n",
              "3                        0                     1       1  ...    No Deposit   \n",
              "4                        0                     2       2  ...    No Deposit   \n",
              "\n",
              "   agent company days_in_waiting_list customer_type   adr  \\\n",
              "0    NaN     NaN                    0     Transient   0.0   \n",
              "1    NaN     NaN                    0     Transient   0.0   \n",
              "2    NaN     NaN                    0     Transient  75.0   \n",
              "3  304.0     NaN                    0     Transient  75.0   \n",
              "4  240.0     NaN                    0     Transient  98.0   \n",
              "\n",
              "   required_car_parking_spaces  total_of_special_requests  reservation_status  \\\n",
              "0                            0                          0           Check-Out   \n",
              "1                            0                          0           Check-Out   \n",
              "2                            0                          0           Check-Out   \n",
              "3                            0                          0           Check-Out   \n",
              "4                            0                          1           Check-Out   \n",
              "\n",
              "  reservation_status_date  \n",
              "0              2015-07-01  \n",
              "1              2015-07-01  \n",
              "2              2015-07-02  \n",
              "3              2015-07-02  \n",
              "4              2015-07-03  \n",
              "\n",
              "[5 rows x 32 columns]"
            ],
            "text/html": [
              "\n",
              "  <div id=\"df-c62efddc-9f95-46e8-bbde-c2163067eb43\" class=\"colab-df-container\">\n",
              "    <div>\n",
              "<style scoped>\n",
              "    .dataframe tbody tr th:only-of-type {\n",
              "        vertical-align: middle;\n",
              "    }\n",
              "\n",
              "    .dataframe tbody tr th {\n",
              "        vertical-align: top;\n",
              "    }\n",
              "\n",
              "    .dataframe thead th {\n",
              "        text-align: right;\n",
              "    }\n",
              "</style>\n",
              "<table border=\"1\" class=\"dataframe\">\n",
              "  <thead>\n",
              "    <tr style=\"text-align: right;\">\n",
              "      <th></th>\n",
              "      <th>hotel</th>\n",
              "      <th>is_canceled</th>\n",
              "      <th>lead_time</th>\n",
              "      <th>arrival_date_year</th>\n",
              "      <th>arrival_date_month</th>\n",
              "      <th>arrival_date_week_number</th>\n",
              "      <th>arrival_date_day_of_month</th>\n",
              "      <th>stays_in_weekend_nights</th>\n",
              "      <th>stays_in_week_nights</th>\n",
              "      <th>adults</th>\n",
              "      <th>...</th>\n",
              "      <th>deposit_type</th>\n",
              "      <th>agent</th>\n",
              "      <th>company</th>\n",
              "      <th>days_in_waiting_list</th>\n",
              "      <th>customer_type</th>\n",
              "      <th>adr</th>\n",
              "      <th>required_car_parking_spaces</th>\n",
              "      <th>total_of_special_requests</th>\n",
              "      <th>reservation_status</th>\n",
              "      <th>reservation_status_date</th>\n",
              "    </tr>\n",
              "  </thead>\n",
              "  <tbody>\n",
              "    <tr>\n",
              "      <th>0</th>\n",
              "      <td>Resort Hotel</td>\n",
              "      <td>0</td>\n",
              "      <td>342</td>\n",
              "      <td>2015</td>\n",
              "      <td>July</td>\n",
              "      <td>27</td>\n",
              "      <td>1</td>\n",
              "      <td>0</td>\n",
              "      <td>0</td>\n",
              "      <td>2</td>\n",
              "      <td>...</td>\n",
              "      <td>No Deposit</td>\n",
              "      <td>NaN</td>\n",
              "      <td>NaN</td>\n",
              "      <td>0</td>\n",
              "      <td>Transient</td>\n",
              "      <td>0.0</td>\n",
              "      <td>0</td>\n",
              "      <td>0</td>\n",
              "      <td>Check-Out</td>\n",
              "      <td>2015-07-01</td>\n",
              "    </tr>\n",
              "    <tr>\n",
              "      <th>1</th>\n",
              "      <td>Resort Hotel</td>\n",
              "      <td>0</td>\n",
              "      <td>737</td>\n",
              "      <td>2015</td>\n",
              "      <td>July</td>\n",
              "      <td>27</td>\n",
              "      <td>1</td>\n",
              "      <td>0</td>\n",
              "      <td>0</td>\n",
              "      <td>2</td>\n",
              "      <td>...</td>\n",
              "      <td>No Deposit</td>\n",
              "      <td>NaN</td>\n",
              "      <td>NaN</td>\n",
              "      <td>0</td>\n",
              "      <td>Transient</td>\n",
              "      <td>0.0</td>\n",
              "      <td>0</td>\n",
              "      <td>0</td>\n",
              "      <td>Check-Out</td>\n",
              "      <td>2015-07-01</td>\n",
              "    </tr>\n",
              "    <tr>\n",
              "      <th>2</th>\n",
              "      <td>Resort Hotel</td>\n",
              "      <td>0</td>\n",
              "      <td>7</td>\n",
              "      <td>2015</td>\n",
              "      <td>July</td>\n",
              "      <td>27</td>\n",
              "      <td>1</td>\n",
              "      <td>0</td>\n",
              "      <td>1</td>\n",
              "      <td>1</td>\n",
              "      <td>...</td>\n",
              "      <td>No Deposit</td>\n",
              "      <td>NaN</td>\n",
              "      <td>NaN</td>\n",
              "      <td>0</td>\n",
              "      <td>Transient</td>\n",
              "      <td>75.0</td>\n",
              "      <td>0</td>\n",
              "      <td>0</td>\n",
              "      <td>Check-Out</td>\n",
              "      <td>2015-07-02</td>\n",
              "    </tr>\n",
              "    <tr>\n",
              "      <th>3</th>\n",
              "      <td>Resort Hotel</td>\n",
              "      <td>0</td>\n",
              "      <td>13</td>\n",
              "      <td>2015</td>\n",
              "      <td>July</td>\n",
              "      <td>27</td>\n",
              "      <td>1</td>\n",
              "      <td>0</td>\n",
              "      <td>1</td>\n",
              "      <td>1</td>\n",
              "      <td>...</td>\n",
              "      <td>No Deposit</td>\n",
              "      <td>304.0</td>\n",
              "      <td>NaN</td>\n",
              "      <td>0</td>\n",
              "      <td>Transient</td>\n",
              "      <td>75.0</td>\n",
              "      <td>0</td>\n",
              "      <td>0</td>\n",
              "      <td>Check-Out</td>\n",
              "      <td>2015-07-02</td>\n",
              "    </tr>\n",
              "    <tr>\n",
              "      <th>4</th>\n",
              "      <td>Resort Hotel</td>\n",
              "      <td>0</td>\n",
              "      <td>14</td>\n",
              "      <td>2015</td>\n",
              "      <td>July</td>\n",
              "      <td>27</td>\n",
              "      <td>1</td>\n",
              "      <td>0</td>\n",
              "      <td>2</td>\n",
              "      <td>2</td>\n",
              "      <td>...</td>\n",
              "      <td>No Deposit</td>\n",
              "      <td>240.0</td>\n",
              "      <td>NaN</td>\n",
              "      <td>0</td>\n",
              "      <td>Transient</td>\n",
              "      <td>98.0</td>\n",
              "      <td>0</td>\n",
              "      <td>1</td>\n",
              "      <td>Check-Out</td>\n",
              "      <td>2015-07-03</td>\n",
              "    </tr>\n",
              "  </tbody>\n",
              "</table>\n",
              "<p>5 rows × 32 columns</p>\n",
              "</div>\n",
              "    <div class=\"colab-df-buttons\">\n",
              "\n",
              "  <div class=\"colab-df-container\">\n",
              "    <button class=\"colab-df-convert\" onclick=\"convertToInteractive('df-c62efddc-9f95-46e8-bbde-c2163067eb43')\"\n",
              "            title=\"Convert this dataframe to an interactive table.\"\n",
              "            style=\"display:none;\">\n",
              "\n",
              "  <svg xmlns=\"http://www.w3.org/2000/svg\" height=\"24px\" viewBox=\"0 -960 960 960\">\n",
              "    <path d=\"M120-120v-720h720v720H120Zm60-500h600v-160H180v160Zm220 220h160v-160H400v160Zm0 220h160v-160H400v160ZM180-400h160v-160H180v160Zm440 0h160v-160H620v160ZM180-180h160v-160H180v160Zm440 0h160v-160H620v160Z\"/>\n",
              "  </svg>\n",
              "    </button>\n",
              "\n",
              "  <style>\n",
              "    .colab-df-container {\n",
              "      display:flex;\n",
              "      gap: 12px;\n",
              "    }\n",
              "\n",
              "    .colab-df-convert {\n",
              "      background-color: #E8F0FE;\n",
              "      border: none;\n",
              "      border-radius: 50%;\n",
              "      cursor: pointer;\n",
              "      display: none;\n",
              "      fill: #1967D2;\n",
              "      height: 32px;\n",
              "      padding: 0 0 0 0;\n",
              "      width: 32px;\n",
              "    }\n",
              "\n",
              "    .colab-df-convert:hover {\n",
              "      background-color: #E2EBFA;\n",
              "      box-shadow: 0px 1px 2px rgba(60, 64, 67, 0.3), 0px 1px 3px 1px rgba(60, 64, 67, 0.15);\n",
              "      fill: #174EA6;\n",
              "    }\n",
              "\n",
              "    .colab-df-buttons div {\n",
              "      margin-bottom: 4px;\n",
              "    }\n",
              "\n",
              "    [theme=dark] .colab-df-convert {\n",
              "      background-color: #3B4455;\n",
              "      fill: #D2E3FC;\n",
              "    }\n",
              "\n",
              "    [theme=dark] .colab-df-convert:hover {\n",
              "      background-color: #434B5C;\n",
              "      box-shadow: 0px 1px 3px 1px rgba(0, 0, 0, 0.15);\n",
              "      filter: drop-shadow(0px 1px 2px rgba(0, 0, 0, 0.3));\n",
              "      fill: #FFFFFF;\n",
              "    }\n",
              "  </style>\n",
              "\n",
              "    <script>\n",
              "      const buttonEl =\n",
              "        document.querySelector('#df-c62efddc-9f95-46e8-bbde-c2163067eb43 button.colab-df-convert');\n",
              "      buttonEl.style.display =\n",
              "        google.colab.kernel.accessAllowed ? 'block' : 'none';\n",
              "\n",
              "      async function convertToInteractive(key) {\n",
              "        const element = document.querySelector('#df-c62efddc-9f95-46e8-bbde-c2163067eb43');\n",
              "        const dataTable =\n",
              "          await google.colab.kernel.invokeFunction('convertToInteractive',\n",
              "                                                    [key], {});\n",
              "        if (!dataTable) return;\n",
              "\n",
              "        const docLinkHtml = 'Like what you see? Visit the ' +\n",
              "          '<a target=\"_blank\" href=https://colab.research.google.com/notebooks/data_table.ipynb>data table notebook</a>'\n",
              "          + ' to learn more about interactive tables.';\n",
              "        element.innerHTML = '';\n",
              "        dataTable['output_type'] = 'display_data';\n",
              "        await google.colab.output.renderOutput(dataTable, element);\n",
              "        const docLink = document.createElement('div');\n",
              "        docLink.innerHTML = docLinkHtml;\n",
              "        element.appendChild(docLink);\n",
              "      }\n",
              "    </script>\n",
              "  </div>\n",
              "\n",
              "\n",
              "    <div id=\"df-beecb5c6-925e-43d8-84f0-49a7b72b9ad0\">\n",
              "      <button class=\"colab-df-quickchart\" onclick=\"quickchart('df-beecb5c6-925e-43d8-84f0-49a7b72b9ad0')\"\n",
              "                title=\"Suggest charts\"\n",
              "                style=\"display:none;\">\n",
              "\n",
              "<svg xmlns=\"http://www.w3.org/2000/svg\" height=\"24px\"viewBox=\"0 0 24 24\"\n",
              "     width=\"24px\">\n",
              "    <g>\n",
              "        <path d=\"M19 3H5c-1.1 0-2 .9-2 2v14c0 1.1.9 2 2 2h14c1.1 0 2-.9 2-2V5c0-1.1-.9-2-2-2zM9 17H7v-7h2v7zm4 0h-2V7h2v10zm4 0h-2v-4h2v4z\"/>\n",
              "    </g>\n",
              "</svg>\n",
              "      </button>\n",
              "\n",
              "<style>\n",
              "  .colab-df-quickchart {\n",
              "      --bg-color: #E8F0FE;\n",
              "      --fill-color: #1967D2;\n",
              "      --hover-bg-color: #E2EBFA;\n",
              "      --hover-fill-color: #174EA6;\n",
              "      --disabled-fill-color: #AAA;\n",
              "      --disabled-bg-color: #DDD;\n",
              "  }\n",
              "\n",
              "  [theme=dark] .colab-df-quickchart {\n",
              "      --bg-color: #3B4455;\n",
              "      --fill-color: #D2E3FC;\n",
              "      --hover-bg-color: #434B5C;\n",
              "      --hover-fill-color: #FFFFFF;\n",
              "      --disabled-bg-color: #3B4455;\n",
              "      --disabled-fill-color: #666;\n",
              "  }\n",
              "\n",
              "  .colab-df-quickchart {\n",
              "    background-color: var(--bg-color);\n",
              "    border: none;\n",
              "    border-radius: 50%;\n",
              "    cursor: pointer;\n",
              "    display: none;\n",
              "    fill: var(--fill-color);\n",
              "    height: 32px;\n",
              "    padding: 0;\n",
              "    width: 32px;\n",
              "  }\n",
              "\n",
              "  .colab-df-quickchart:hover {\n",
              "    background-color: var(--hover-bg-color);\n",
              "    box-shadow: 0 1px 2px rgba(60, 64, 67, 0.3), 0 1px 3px 1px rgba(60, 64, 67, 0.15);\n",
              "    fill: var(--button-hover-fill-color);\n",
              "  }\n",
              "\n",
              "  .colab-df-quickchart-complete:disabled,\n",
              "  .colab-df-quickchart-complete:disabled:hover {\n",
              "    background-color: var(--disabled-bg-color);\n",
              "    fill: var(--disabled-fill-color);\n",
              "    box-shadow: none;\n",
              "  }\n",
              "\n",
              "  .colab-df-spinner {\n",
              "    border: 2px solid var(--fill-color);\n",
              "    border-color: transparent;\n",
              "    border-bottom-color: var(--fill-color);\n",
              "    animation:\n",
              "      spin 1s steps(1) infinite;\n",
              "  }\n",
              "\n",
              "  @keyframes spin {\n",
              "    0% {\n",
              "      border-color: transparent;\n",
              "      border-bottom-color: var(--fill-color);\n",
              "      border-left-color: var(--fill-color);\n",
              "    }\n",
              "    20% {\n",
              "      border-color: transparent;\n",
              "      border-left-color: var(--fill-color);\n",
              "      border-top-color: var(--fill-color);\n",
              "    }\n",
              "    30% {\n",
              "      border-color: transparent;\n",
              "      border-left-color: var(--fill-color);\n",
              "      border-top-color: var(--fill-color);\n",
              "      border-right-color: var(--fill-color);\n",
              "    }\n",
              "    40% {\n",
              "      border-color: transparent;\n",
              "      border-right-color: var(--fill-color);\n",
              "      border-top-color: var(--fill-color);\n",
              "    }\n",
              "    60% {\n",
              "      border-color: transparent;\n",
              "      border-right-color: var(--fill-color);\n",
              "    }\n",
              "    80% {\n",
              "      border-color: transparent;\n",
              "      border-right-color: var(--fill-color);\n",
              "      border-bottom-color: var(--fill-color);\n",
              "    }\n",
              "    90% {\n",
              "      border-color: transparent;\n",
              "      border-bottom-color: var(--fill-color);\n",
              "    }\n",
              "  }\n",
              "</style>\n",
              "\n",
              "      <script>\n",
              "        async function quickchart(key) {\n",
              "          const quickchartButtonEl =\n",
              "            document.querySelector('#' + key + ' button');\n",
              "          quickchartButtonEl.disabled = true;  // To prevent multiple clicks.\n",
              "          quickchartButtonEl.classList.add('colab-df-spinner');\n",
              "          try {\n",
              "            const charts = await google.colab.kernel.invokeFunction(\n",
              "                'suggestCharts', [key], {});\n",
              "          } catch (error) {\n",
              "            console.error('Error during call to suggestCharts:', error);\n",
              "          }\n",
              "          quickchartButtonEl.classList.remove('colab-df-spinner');\n",
              "          quickchartButtonEl.classList.add('colab-df-quickchart-complete');\n",
              "        }\n",
              "        (() => {\n",
              "          let quickchartButtonEl =\n",
              "            document.querySelector('#df-beecb5c6-925e-43d8-84f0-49a7b72b9ad0 button');\n",
              "          quickchartButtonEl.style.display =\n",
              "            google.colab.kernel.accessAllowed ? 'block' : 'none';\n",
              "        })();\n",
              "      </script>\n",
              "    </div>\n",
              "\n",
              "    </div>\n",
              "  </div>\n"
            ],
            "application/vnd.google.colaboratory.intrinsic+json": {
              "type": "dataframe",
              "variable_name": "df"
            }
          },
          "metadata": {},
          "execution_count": 6
        }
      ]
    },
    {
      "cell_type": "code",
      "source": [
        "print(\"Last five rows of the Dataset: \")\n",
        "df.tail()"
      ],
      "metadata": {
        "colab": {
          "base_uri": "https://localhost:8080/",
          "height": 359
        },
        "id": "wEhpg_r20MP8",
        "outputId": "8bffa0f7-84dc-4cc6-b0e1-c1ef41c15c48"
      },
      "execution_count": 7,
      "outputs": [
        {
          "output_type": "stream",
          "name": "stdout",
          "text": [
            "Last five rows of the Dataset: \n"
          ]
        },
        {
          "output_type": "execute_result",
          "data": {
            "text/plain": [
              "             hotel  is_canceled  lead_time  arrival_date_year  \\\n",
              "119385  City Hotel            0         23               2017   \n",
              "119386  City Hotel            0        102               2017   \n",
              "119387  City Hotel            0         34               2017   \n",
              "119388  City Hotel            0        109               2017   \n",
              "119389  City Hotel            0        205               2017   \n",
              "\n",
              "       arrival_date_month  arrival_date_week_number  \\\n",
              "119385             August                        35   \n",
              "119386             August                        35   \n",
              "119387             August                        35   \n",
              "119388             August                        35   \n",
              "119389             August                        35   \n",
              "\n",
              "        arrival_date_day_of_month  stays_in_weekend_nights  \\\n",
              "119385                         30                        2   \n",
              "119386                         31                        2   \n",
              "119387                         31                        2   \n",
              "119388                         31                        2   \n",
              "119389                         29                        2   \n",
              "\n",
              "        stays_in_week_nights  adults  ...  deposit_type  agent company  \\\n",
              "119385                     5       2  ...    No Deposit  394.0     NaN   \n",
              "119386                     5       3  ...    No Deposit    9.0     NaN   \n",
              "119387                     5       2  ...    No Deposit    9.0     NaN   \n",
              "119388                     5       2  ...    No Deposit   89.0     NaN   \n",
              "119389                     7       2  ...    No Deposit    9.0     NaN   \n",
              "\n",
              "       days_in_waiting_list customer_type     adr  \\\n",
              "119385                    0     Transient   96.14   \n",
              "119386                    0     Transient  225.43   \n",
              "119387                    0     Transient  157.71   \n",
              "119388                    0     Transient  104.40   \n",
              "119389                    0     Transient  151.20   \n",
              "\n",
              "        required_car_parking_spaces  total_of_special_requests  \\\n",
              "119385                            0                          0   \n",
              "119386                            0                          2   \n",
              "119387                            0                          4   \n",
              "119388                            0                          0   \n",
              "119389                            0                          2   \n",
              "\n",
              "        reservation_status reservation_status_date  \n",
              "119385           Check-Out              2017-09-06  \n",
              "119386           Check-Out              2017-09-07  \n",
              "119387           Check-Out              2017-09-07  \n",
              "119388           Check-Out              2017-09-07  \n",
              "119389           Check-Out              2017-09-07  \n",
              "\n",
              "[5 rows x 32 columns]"
            ],
            "text/html": [
              "\n",
              "  <div id=\"df-75fcc30a-70df-4051-a681-47cc9f701609\" class=\"colab-df-container\">\n",
              "    <div>\n",
              "<style scoped>\n",
              "    .dataframe tbody tr th:only-of-type {\n",
              "        vertical-align: middle;\n",
              "    }\n",
              "\n",
              "    .dataframe tbody tr th {\n",
              "        vertical-align: top;\n",
              "    }\n",
              "\n",
              "    .dataframe thead th {\n",
              "        text-align: right;\n",
              "    }\n",
              "</style>\n",
              "<table border=\"1\" class=\"dataframe\">\n",
              "  <thead>\n",
              "    <tr style=\"text-align: right;\">\n",
              "      <th></th>\n",
              "      <th>hotel</th>\n",
              "      <th>is_canceled</th>\n",
              "      <th>lead_time</th>\n",
              "      <th>arrival_date_year</th>\n",
              "      <th>arrival_date_month</th>\n",
              "      <th>arrival_date_week_number</th>\n",
              "      <th>arrival_date_day_of_month</th>\n",
              "      <th>stays_in_weekend_nights</th>\n",
              "      <th>stays_in_week_nights</th>\n",
              "      <th>adults</th>\n",
              "      <th>...</th>\n",
              "      <th>deposit_type</th>\n",
              "      <th>agent</th>\n",
              "      <th>company</th>\n",
              "      <th>days_in_waiting_list</th>\n",
              "      <th>customer_type</th>\n",
              "      <th>adr</th>\n",
              "      <th>required_car_parking_spaces</th>\n",
              "      <th>total_of_special_requests</th>\n",
              "      <th>reservation_status</th>\n",
              "      <th>reservation_status_date</th>\n",
              "    </tr>\n",
              "  </thead>\n",
              "  <tbody>\n",
              "    <tr>\n",
              "      <th>119385</th>\n",
              "      <td>City Hotel</td>\n",
              "      <td>0</td>\n",
              "      <td>23</td>\n",
              "      <td>2017</td>\n",
              "      <td>August</td>\n",
              "      <td>35</td>\n",
              "      <td>30</td>\n",
              "      <td>2</td>\n",
              "      <td>5</td>\n",
              "      <td>2</td>\n",
              "      <td>...</td>\n",
              "      <td>No Deposit</td>\n",
              "      <td>394.0</td>\n",
              "      <td>NaN</td>\n",
              "      <td>0</td>\n",
              "      <td>Transient</td>\n",
              "      <td>96.14</td>\n",
              "      <td>0</td>\n",
              "      <td>0</td>\n",
              "      <td>Check-Out</td>\n",
              "      <td>2017-09-06</td>\n",
              "    </tr>\n",
              "    <tr>\n",
              "      <th>119386</th>\n",
              "      <td>City Hotel</td>\n",
              "      <td>0</td>\n",
              "      <td>102</td>\n",
              "      <td>2017</td>\n",
              "      <td>August</td>\n",
              "      <td>35</td>\n",
              "      <td>31</td>\n",
              "      <td>2</td>\n",
              "      <td>5</td>\n",
              "      <td>3</td>\n",
              "      <td>...</td>\n",
              "      <td>No Deposit</td>\n",
              "      <td>9.0</td>\n",
              "      <td>NaN</td>\n",
              "      <td>0</td>\n",
              "      <td>Transient</td>\n",
              "      <td>225.43</td>\n",
              "      <td>0</td>\n",
              "      <td>2</td>\n",
              "      <td>Check-Out</td>\n",
              "      <td>2017-09-07</td>\n",
              "    </tr>\n",
              "    <tr>\n",
              "      <th>119387</th>\n",
              "      <td>City Hotel</td>\n",
              "      <td>0</td>\n",
              "      <td>34</td>\n",
              "      <td>2017</td>\n",
              "      <td>August</td>\n",
              "      <td>35</td>\n",
              "      <td>31</td>\n",
              "      <td>2</td>\n",
              "      <td>5</td>\n",
              "      <td>2</td>\n",
              "      <td>...</td>\n",
              "      <td>No Deposit</td>\n",
              "      <td>9.0</td>\n",
              "      <td>NaN</td>\n",
              "      <td>0</td>\n",
              "      <td>Transient</td>\n",
              "      <td>157.71</td>\n",
              "      <td>0</td>\n",
              "      <td>4</td>\n",
              "      <td>Check-Out</td>\n",
              "      <td>2017-09-07</td>\n",
              "    </tr>\n",
              "    <tr>\n",
              "      <th>119388</th>\n",
              "      <td>City Hotel</td>\n",
              "      <td>0</td>\n",
              "      <td>109</td>\n",
              "      <td>2017</td>\n",
              "      <td>August</td>\n",
              "      <td>35</td>\n",
              "      <td>31</td>\n",
              "      <td>2</td>\n",
              "      <td>5</td>\n",
              "      <td>2</td>\n",
              "      <td>...</td>\n",
              "      <td>No Deposit</td>\n",
              "      <td>89.0</td>\n",
              "      <td>NaN</td>\n",
              "      <td>0</td>\n",
              "      <td>Transient</td>\n",
              "      <td>104.40</td>\n",
              "      <td>0</td>\n",
              "      <td>0</td>\n",
              "      <td>Check-Out</td>\n",
              "      <td>2017-09-07</td>\n",
              "    </tr>\n",
              "    <tr>\n",
              "      <th>119389</th>\n",
              "      <td>City Hotel</td>\n",
              "      <td>0</td>\n",
              "      <td>205</td>\n",
              "      <td>2017</td>\n",
              "      <td>August</td>\n",
              "      <td>35</td>\n",
              "      <td>29</td>\n",
              "      <td>2</td>\n",
              "      <td>7</td>\n",
              "      <td>2</td>\n",
              "      <td>...</td>\n",
              "      <td>No Deposit</td>\n",
              "      <td>9.0</td>\n",
              "      <td>NaN</td>\n",
              "      <td>0</td>\n",
              "      <td>Transient</td>\n",
              "      <td>151.20</td>\n",
              "      <td>0</td>\n",
              "      <td>2</td>\n",
              "      <td>Check-Out</td>\n",
              "      <td>2017-09-07</td>\n",
              "    </tr>\n",
              "  </tbody>\n",
              "</table>\n",
              "<p>5 rows × 32 columns</p>\n",
              "</div>\n",
              "    <div class=\"colab-df-buttons\">\n",
              "\n",
              "  <div class=\"colab-df-container\">\n",
              "    <button class=\"colab-df-convert\" onclick=\"convertToInteractive('df-75fcc30a-70df-4051-a681-47cc9f701609')\"\n",
              "            title=\"Convert this dataframe to an interactive table.\"\n",
              "            style=\"display:none;\">\n",
              "\n",
              "  <svg xmlns=\"http://www.w3.org/2000/svg\" height=\"24px\" viewBox=\"0 -960 960 960\">\n",
              "    <path d=\"M120-120v-720h720v720H120Zm60-500h600v-160H180v160Zm220 220h160v-160H400v160Zm0 220h160v-160H400v160ZM180-400h160v-160H180v160Zm440 0h160v-160H620v160ZM180-180h160v-160H180v160Zm440 0h160v-160H620v160Z\"/>\n",
              "  </svg>\n",
              "    </button>\n",
              "\n",
              "  <style>\n",
              "    .colab-df-container {\n",
              "      display:flex;\n",
              "      gap: 12px;\n",
              "    }\n",
              "\n",
              "    .colab-df-convert {\n",
              "      background-color: #E8F0FE;\n",
              "      border: none;\n",
              "      border-radius: 50%;\n",
              "      cursor: pointer;\n",
              "      display: none;\n",
              "      fill: #1967D2;\n",
              "      height: 32px;\n",
              "      padding: 0 0 0 0;\n",
              "      width: 32px;\n",
              "    }\n",
              "\n",
              "    .colab-df-convert:hover {\n",
              "      background-color: #E2EBFA;\n",
              "      box-shadow: 0px 1px 2px rgba(60, 64, 67, 0.3), 0px 1px 3px 1px rgba(60, 64, 67, 0.15);\n",
              "      fill: #174EA6;\n",
              "    }\n",
              "\n",
              "    .colab-df-buttons div {\n",
              "      margin-bottom: 4px;\n",
              "    }\n",
              "\n",
              "    [theme=dark] .colab-df-convert {\n",
              "      background-color: #3B4455;\n",
              "      fill: #D2E3FC;\n",
              "    }\n",
              "\n",
              "    [theme=dark] .colab-df-convert:hover {\n",
              "      background-color: #434B5C;\n",
              "      box-shadow: 0px 1px 3px 1px rgba(0, 0, 0, 0.15);\n",
              "      filter: drop-shadow(0px 1px 2px rgba(0, 0, 0, 0.3));\n",
              "      fill: #FFFFFF;\n",
              "    }\n",
              "  </style>\n",
              "\n",
              "    <script>\n",
              "      const buttonEl =\n",
              "        document.querySelector('#df-75fcc30a-70df-4051-a681-47cc9f701609 button.colab-df-convert');\n",
              "      buttonEl.style.display =\n",
              "        google.colab.kernel.accessAllowed ? 'block' : 'none';\n",
              "\n",
              "      async function convertToInteractive(key) {\n",
              "        const element = document.querySelector('#df-75fcc30a-70df-4051-a681-47cc9f701609');\n",
              "        const dataTable =\n",
              "          await google.colab.kernel.invokeFunction('convertToInteractive',\n",
              "                                                    [key], {});\n",
              "        if (!dataTable) return;\n",
              "\n",
              "        const docLinkHtml = 'Like what you see? Visit the ' +\n",
              "          '<a target=\"_blank\" href=https://colab.research.google.com/notebooks/data_table.ipynb>data table notebook</a>'\n",
              "          + ' to learn more about interactive tables.';\n",
              "        element.innerHTML = '';\n",
              "        dataTable['output_type'] = 'display_data';\n",
              "        await google.colab.output.renderOutput(dataTable, element);\n",
              "        const docLink = document.createElement('div');\n",
              "        docLink.innerHTML = docLinkHtml;\n",
              "        element.appendChild(docLink);\n",
              "      }\n",
              "    </script>\n",
              "  </div>\n",
              "\n",
              "\n",
              "    <div id=\"df-a22607f8-81e9-41af-bcd7-353aa65ccdc9\">\n",
              "      <button class=\"colab-df-quickchart\" onclick=\"quickchart('df-a22607f8-81e9-41af-bcd7-353aa65ccdc9')\"\n",
              "                title=\"Suggest charts\"\n",
              "                style=\"display:none;\">\n",
              "\n",
              "<svg xmlns=\"http://www.w3.org/2000/svg\" height=\"24px\"viewBox=\"0 0 24 24\"\n",
              "     width=\"24px\">\n",
              "    <g>\n",
              "        <path d=\"M19 3H5c-1.1 0-2 .9-2 2v14c0 1.1.9 2 2 2h14c1.1 0 2-.9 2-2V5c0-1.1-.9-2-2-2zM9 17H7v-7h2v7zm4 0h-2V7h2v10zm4 0h-2v-4h2v4z\"/>\n",
              "    </g>\n",
              "</svg>\n",
              "      </button>\n",
              "\n",
              "<style>\n",
              "  .colab-df-quickchart {\n",
              "      --bg-color: #E8F0FE;\n",
              "      --fill-color: #1967D2;\n",
              "      --hover-bg-color: #E2EBFA;\n",
              "      --hover-fill-color: #174EA6;\n",
              "      --disabled-fill-color: #AAA;\n",
              "      --disabled-bg-color: #DDD;\n",
              "  }\n",
              "\n",
              "  [theme=dark] .colab-df-quickchart {\n",
              "      --bg-color: #3B4455;\n",
              "      --fill-color: #D2E3FC;\n",
              "      --hover-bg-color: #434B5C;\n",
              "      --hover-fill-color: #FFFFFF;\n",
              "      --disabled-bg-color: #3B4455;\n",
              "      --disabled-fill-color: #666;\n",
              "  }\n",
              "\n",
              "  .colab-df-quickchart {\n",
              "    background-color: var(--bg-color);\n",
              "    border: none;\n",
              "    border-radius: 50%;\n",
              "    cursor: pointer;\n",
              "    display: none;\n",
              "    fill: var(--fill-color);\n",
              "    height: 32px;\n",
              "    padding: 0;\n",
              "    width: 32px;\n",
              "  }\n",
              "\n",
              "  .colab-df-quickchart:hover {\n",
              "    background-color: var(--hover-bg-color);\n",
              "    box-shadow: 0 1px 2px rgba(60, 64, 67, 0.3), 0 1px 3px 1px rgba(60, 64, 67, 0.15);\n",
              "    fill: var(--button-hover-fill-color);\n",
              "  }\n",
              "\n",
              "  .colab-df-quickchart-complete:disabled,\n",
              "  .colab-df-quickchart-complete:disabled:hover {\n",
              "    background-color: var(--disabled-bg-color);\n",
              "    fill: var(--disabled-fill-color);\n",
              "    box-shadow: none;\n",
              "  }\n",
              "\n",
              "  .colab-df-spinner {\n",
              "    border: 2px solid var(--fill-color);\n",
              "    border-color: transparent;\n",
              "    border-bottom-color: var(--fill-color);\n",
              "    animation:\n",
              "      spin 1s steps(1) infinite;\n",
              "  }\n",
              "\n",
              "  @keyframes spin {\n",
              "    0% {\n",
              "      border-color: transparent;\n",
              "      border-bottom-color: var(--fill-color);\n",
              "      border-left-color: var(--fill-color);\n",
              "    }\n",
              "    20% {\n",
              "      border-color: transparent;\n",
              "      border-left-color: var(--fill-color);\n",
              "      border-top-color: var(--fill-color);\n",
              "    }\n",
              "    30% {\n",
              "      border-color: transparent;\n",
              "      border-left-color: var(--fill-color);\n",
              "      border-top-color: var(--fill-color);\n",
              "      border-right-color: var(--fill-color);\n",
              "    }\n",
              "    40% {\n",
              "      border-color: transparent;\n",
              "      border-right-color: var(--fill-color);\n",
              "      border-top-color: var(--fill-color);\n",
              "    }\n",
              "    60% {\n",
              "      border-color: transparent;\n",
              "      border-right-color: var(--fill-color);\n",
              "    }\n",
              "    80% {\n",
              "      border-color: transparent;\n",
              "      border-right-color: var(--fill-color);\n",
              "      border-bottom-color: var(--fill-color);\n",
              "    }\n",
              "    90% {\n",
              "      border-color: transparent;\n",
              "      border-bottom-color: var(--fill-color);\n",
              "    }\n",
              "  }\n",
              "</style>\n",
              "\n",
              "      <script>\n",
              "        async function quickchart(key) {\n",
              "          const quickchartButtonEl =\n",
              "            document.querySelector('#' + key + ' button');\n",
              "          quickchartButtonEl.disabled = true;  // To prevent multiple clicks.\n",
              "          quickchartButtonEl.classList.add('colab-df-spinner');\n",
              "          try {\n",
              "            const charts = await google.colab.kernel.invokeFunction(\n",
              "                'suggestCharts', [key], {});\n",
              "          } catch (error) {\n",
              "            console.error('Error during call to suggestCharts:', error);\n",
              "          }\n",
              "          quickchartButtonEl.classList.remove('colab-df-spinner');\n",
              "          quickchartButtonEl.classList.add('colab-df-quickchart-complete');\n",
              "        }\n",
              "        (() => {\n",
              "          let quickchartButtonEl =\n",
              "            document.querySelector('#df-a22607f8-81e9-41af-bcd7-353aa65ccdc9 button');\n",
              "          quickchartButtonEl.style.display =\n",
              "            google.colab.kernel.accessAllowed ? 'block' : 'none';\n",
              "        })();\n",
              "      </script>\n",
              "    </div>\n",
              "\n",
              "    </div>\n",
              "  </div>\n"
            ],
            "application/vnd.google.colaboratory.intrinsic+json": {
              "type": "dataframe"
            }
          },
          "metadata": {},
          "execution_count": 7
        }
      ]
    },
    {
      "cell_type": "code",
      "source": [
        "print(\"Statistical Summary:\")\n",
        "print(df.describe(include='all'))"
      ],
      "metadata": {
        "colab": {
          "base_uri": "https://localhost:8080/"
        },
        "id": "hzxgXHlZ0T2L",
        "outputId": "c957631a-b1c9-4fe7-e46a-b00eea610a83"
      },
      "execution_count": 8,
      "outputs": [
        {
          "output_type": "stream",
          "name": "stdout",
          "text": [
            "Statistical Summary:\n",
            "             hotel    is_canceled      lead_time  arrival_date_year  \\\n",
            "count       119390  119390.000000  119390.000000      119390.000000   \n",
            "unique           2            NaN            NaN                NaN   \n",
            "top     City Hotel            NaN            NaN                NaN   \n",
            "freq         79330            NaN            NaN                NaN   \n",
            "mean           NaN       0.370416     104.011416        2016.156554   \n",
            "std            NaN       0.482918     106.863097           0.707476   \n",
            "min            NaN       0.000000       0.000000        2015.000000   \n",
            "25%            NaN       0.000000      18.000000        2016.000000   \n",
            "50%            NaN       0.000000      69.000000        2016.000000   \n",
            "75%            NaN       1.000000     160.000000        2017.000000   \n",
            "max            NaN       1.000000     737.000000        2017.000000   \n",
            "\n",
            "       arrival_date_month  arrival_date_week_number  \\\n",
            "count              119390             119390.000000   \n",
            "unique                 12                       NaN   \n",
            "top                August                       NaN   \n",
            "freq                13877                       NaN   \n",
            "mean                  NaN                 27.165173   \n",
            "std                   NaN                 13.605138   \n",
            "min                   NaN                  1.000000   \n",
            "25%                   NaN                 16.000000   \n",
            "50%                   NaN                 28.000000   \n",
            "75%                   NaN                 38.000000   \n",
            "max                   NaN                 53.000000   \n",
            "\n",
            "        arrival_date_day_of_month  stays_in_weekend_nights  \\\n",
            "count               119390.000000            119390.000000   \n",
            "unique                        NaN                      NaN   \n",
            "top                           NaN                      NaN   \n",
            "freq                          NaN                      NaN   \n",
            "mean                    15.798241                 0.927599   \n",
            "std                      8.780829                 0.998613   \n",
            "min                      1.000000                 0.000000   \n",
            "25%                      8.000000                 0.000000   \n",
            "50%                     16.000000                 1.000000   \n",
            "75%                     23.000000                 2.000000   \n",
            "max                     31.000000                19.000000   \n",
            "\n",
            "        stays_in_week_nights         adults  ...  deposit_type          agent  \\\n",
            "count          119390.000000  119390.000000  ...        119390  103050.000000   \n",
            "unique                   NaN            NaN  ...             3            NaN   \n",
            "top                      NaN            NaN  ...    No Deposit            NaN   \n",
            "freq                     NaN            NaN  ...        104641            NaN   \n",
            "mean                2.500302       1.856403  ...           NaN      86.693382   \n",
            "std                 1.908286       0.579261  ...           NaN     110.774548   \n",
            "min                 0.000000       0.000000  ...           NaN       1.000000   \n",
            "25%                 1.000000       2.000000  ...           NaN       9.000000   \n",
            "50%                 2.000000       2.000000  ...           NaN      14.000000   \n",
            "75%                 3.000000       2.000000  ...           NaN     229.000000   \n",
            "max                50.000000      55.000000  ...           NaN     535.000000   \n",
            "\n",
            "            company days_in_waiting_list customer_type            adr  \\\n",
            "count   6797.000000        119390.000000        119390  119390.000000   \n",
            "unique          NaN                  NaN             4            NaN   \n",
            "top             NaN                  NaN     Transient            NaN   \n",
            "freq            NaN                  NaN         89613            NaN   \n",
            "mean     189.266735             2.321149           NaN     101.831122   \n",
            "std      131.655015            17.594721           NaN      50.535790   \n",
            "min        6.000000             0.000000           NaN      -6.380000   \n",
            "25%       62.000000             0.000000           NaN      69.290000   \n",
            "50%      179.000000             0.000000           NaN      94.575000   \n",
            "75%      270.000000             0.000000           NaN     126.000000   \n",
            "max      543.000000           391.000000           NaN    5400.000000   \n",
            "\n",
            "        required_car_parking_spaces  total_of_special_requests  \\\n",
            "count                 119390.000000              119390.000000   \n",
            "unique                          NaN                        NaN   \n",
            "top                             NaN                        NaN   \n",
            "freq                            NaN                        NaN   \n",
            "mean                       0.062518                   0.571363   \n",
            "std                        0.245291                   0.792798   \n",
            "min                        0.000000                   0.000000   \n",
            "25%                        0.000000                   0.000000   \n",
            "50%                        0.000000                   0.000000   \n",
            "75%                        0.000000                   1.000000   \n",
            "max                        8.000000                   5.000000   \n",
            "\n",
            "        reservation_status reservation_status_date  \n",
            "count               119390                  119390  \n",
            "unique                   3                     926  \n",
            "top              Check-Out              2015-10-21  \n",
            "freq                 75166                    1461  \n",
            "mean                   NaN                     NaN  \n",
            "std                    NaN                     NaN  \n",
            "min                    NaN                     NaN  \n",
            "25%                    NaN                     NaN  \n",
            "50%                    NaN                     NaN  \n",
            "75%                    NaN                     NaN  \n",
            "max                    NaN                     NaN  \n",
            "\n",
            "[11 rows x 32 columns]\n"
          ]
        }
      ]
    },
    {
      "cell_type": "markdown",
      "source": [
        "####Task 1.2: Missing Value Analysis"
      ],
      "metadata": {
        "id": "uix6_FQo1G0A"
      }
    },
    {
      "cell_type": "code",
      "source": [
        "print(\"Missing Values Summary:\")\n",
        "\n",
        "missing_data = df.isnull().sum()\n",
        "\n",
        "missing_percent = (missing_data / len(df)) * 100\n",
        "\n",
        "missing_summary = pd.DataFrame({\n",
        "    'Missing_Count': missing_data,\n",
        "    'Missing_Percentage': missing_percent\n",
        "}).sort_values('Missing_Count', ascending=False)\n",
        "\n",
        "missing_summary = missing_summary[missing_summary['Missing_Count'] > 0].sort_values(by='Missing_Count', ascending=False)\n",
        "\n",
        "print(missing_summary)"
      ],
      "metadata": {
        "colab": {
          "base_uri": "https://localhost:8080/"
        },
        "id": "KtTDDVRO1PnU",
        "outputId": "4abb4a42-bedf-4d57-9228-5db838ea5c5f"
      },
      "execution_count": 9,
      "outputs": [
        {
          "output_type": "stream",
          "name": "stdout",
          "text": [
            "Missing Values Summary:\n",
            "          Missing_Count  Missing_Percentage\n",
            "company          112593           94.306893\n",
            "agent             16340           13.686238\n",
            "country             488            0.408744\n",
            "children              4            0.003350\n"
          ]
        }
      ]
    },
    {
      "cell_type": "code",
      "source": [
        "plt.figure(figsize=(10, 6))\n",
        "sns.heatmap(df.isnull(), cbar=True, yticklabels=False, cmap='viridis')\n",
        "plt.title('Missing Data Heatmap')\n",
        "plt.show()"
      ],
      "metadata": {
        "colab": {
          "base_uri": "https://localhost:8080/",
          "height": 759
        },
        "id": "KAT0CD8B3keF",
        "outputId": "53edca8f-8d8e-4b43-fb74-d10d91390653"
      },
      "execution_count": 10,
      "outputs": [
        {
          "output_type": "display_data",
          "data": {
            "text/plain": [
              "<Figure size 1000x600 with 2 Axes>"
            ],
            "image/png": "[encoded data removed]"
          },
          "metadata": {}
        }
      ]
    },
    {
      "cell_type": "code",
      "source": [
        "missing_summary['Likely_Category'] = missing_summary.index.map({\n",
        "    'company': 'MNAR',\n",
        "    'agent': 'MAR',\n",
        "    'country': 'MCAR',\n",
        "    'children': 'MCAR'\n",
        "})\n",
        "\n",
        "print(\"Missing Value Report:\")\n",
        "print(missing_summary)"
      ],
      "metadata": {
        "colab": {
          "base_uri": "https://localhost:8080/"
        },
        "id": "rUA7m1LLbVGK",
        "outputId": "27bbb480-680a-47c7-98e4-88ea43e70bce"
      },
      "execution_count": 11,
      "outputs": [
        {
          "output_type": "stream",
          "name": "stdout",
          "text": [
            "Missing Value Report:\n",
            "          Missing_Count  Missing_Percentage Likely_Category\n",
            "company          112593           94.306893            MNAR\n",
            "agent             16340           13.686238             MAR\n",
            "country             488            0.408744            MCAR\n",
            "children              4            0.003350            MCAR\n"
          ]
        }
      ]
    },
    {
      "cell_type": "markdown",
      "source": [
        "####Task 1.3: Data Quality Assessment"
      ],
      "metadata": {
        "id": "NNa0r1q7ceKh"
      }
    },
    {
      "cell_type": "code",
      "source": [
        "duplicate_count = df.duplicated().sum()\n",
        "print(f\"Number of duplicate records: {duplicate_count}\")"
      ],
      "metadata": {
        "colab": {
          "base_uri": "https://localhost:8080/"
        },
        "id": "3pe2jGRfcj7-",
        "outputId": "09b98438-7b45-4932-e267-cb8e4fdd6ca2"
      },
      "execution_count": 12,
      "outputs": [
        {
          "output_type": "stream",
          "name": "stdout",
          "text": [
            "Number of duplicate records: 31994\n"
          ]
        }
      ]
    },
    {
      "cell_type": "code",
      "source": [
        "numerical_cols = ['lead_time', 'stays_in_weekend_nights', 'stays_in_week_nights',\n",
        "                  'adults', 'children', 'babies', 'adr']\n",
        "\n",
        "print(\"\\nNumerical Columns Summary:\")\n",
        "print(df[numerical_cols].describe())\n"
      ],
      "metadata": {
        "colab": {
          "base_uri": "https://localhost:8080/"
        },
        "id": "B1K_UZ_dc-Wj",
        "outputId": "17209082-a2d0-400e-b565-606a2653cd91"
      },
      "execution_count": 13,
      "outputs": [
        {
          "output_type": "stream",
          "name": "stdout",
          "text": [
            "\n",
            "Numerical Columns Summary:\n",
            "           lead_time  stays_in_weekend_nights  stays_in_week_nights  \\\n",
            "count  119390.000000            119390.000000         119390.000000   \n",
            "mean      104.011416                 0.927599              2.500302   \n",
            "std       106.863097                 0.998613              1.908286   \n",
            "min         0.000000                 0.000000              0.000000   \n",
            "25%        18.000000                 0.000000              1.000000   \n",
            "50%        69.000000                 1.000000              2.000000   \n",
            "75%       160.000000                 2.000000              3.000000   \n",
            "max       737.000000                19.000000             50.000000   \n",
            "\n",
            "              adults       children         babies            adr  \n",
            "count  119390.000000  119386.000000  119390.000000  119390.000000  \n",
            "mean        1.856403       0.103890       0.007949     101.831122  \n",
            "std         0.579261       0.398561       0.097436      50.535790  \n",
            "min         0.000000       0.000000       0.000000      -6.380000  \n",
            "25%         2.000000       0.000000       0.000000      69.290000  \n",
            "50%         2.000000       0.000000       0.000000      94.575000  \n",
            "75%         2.000000       0.000000       0.000000     126.000000  \n",
            "max        55.000000      10.000000      10.000000    5400.000000  \n"
          ]
        }
      ]
    },
    {
      "cell_type": "code",
      "source": [
        "print(\"\\nCategorical Data Analysis:\")\n",
        "categorical_cols = df.select_dtypes(include=['object']).columns\n",
        "\n",
        "for col in categorical_cols:\n",
        "    print(f\"\\n{col} - Unique Values ({df[col].nunique()}):\")\n",
        "    value_counts = df[col].value_counts()\n",
        "    print(value_counts)\n",
        "\n",
        "    unique_values = df[col].dropna().unique()\n",
        "    print(f\"  Potential issues: {[val for val in unique_values if ' ' in str(val) or str(val) != str(val).strip()]}\")\n"
      ],
      "metadata": {
        "colab": {
          "base_uri": "https://localhost:8080/"
        },
        "id": "CxHkxYkoduqr",
        "outputId": "4c8c7c6a-014e-42ca-ed7a-21ec5ec0c671"
      },
      "execution_count": 14,
      "outputs": [
        {
          "output_type": "stream",
          "name": "stdout",
          "text": [
            "\n",
            "Categorical Data Analysis:\n",
            "\n",
            "hotel - Unique Values (2):\n",
            "hotel\n",
            "City Hotel      79330\n",
            "Resort Hotel    40060\n",
            "Name: count, dtype: int64\n",
            "  Potential issues: ['Resort Hotel', 'City Hotel']\n",
            "\n",
            "arrival_date_month - Unique Values (12):\n",
            "arrival_date_month\n",
            "August       13877\n",
            "July         12661\n",
            "May          11791\n",
            "October      11160\n",
            "April        11089\n",
            "June         10939\n",
            "September    10508\n",
            "March         9794\n",
            "February      8068\n",
            "November      6794\n",
            "December      6780\n",
            "January       5929\n",
            "Name: count, dtype: int64\n",
            "  Potential issues: []\n",
            "\n",
            "meal - Unique Values (5):\n",
            "meal\n",
            "BB           92310\n",
            "HB           14463\n",
            "SC           10650\n",
            "Undefined     1169\n",
            "FB             798\n",
            "Name: count, dtype: int64\n",
            "  Potential issues: []\n",
            "\n",
            "country - Unique Values (177):\n",
            "country\n",
            "PRT    48590\n",
            "GBR    12129\n",
            "FRA    10415\n",
            "ESP     8568\n",
            "DEU     7287\n",
            "       ...  \n",
            "MRT        1\n",
            "KIR        1\n",
            "SDN        1\n",
            "ATF        1\n",
            "SLE        1\n",
            "Name: count, Length: 177, dtype: int64\n",
            "  Potential issues: []\n",
            "\n",
            "market_segment - Unique Values (8):\n",
            "market_segment\n",
            "Online TA        56477\n",
            "Offline TA/TO    24219\n",
            "Groups           19811\n",
            "Direct           12606\n",
            "Corporate         5295\n",
            "Complementary      743\n",
            "Aviation           237\n",
            "Undefined            2\n",
            "Name: count, dtype: int64\n",
            "  Potential issues: ['Online TA', 'Offline TA/TO']\n",
            "\n",
            "distribution_channel - Unique Values (5):\n",
            "distribution_channel\n",
            "TA/TO        97870\n",
            "Direct       14645\n",
            "Corporate     6677\n",
            "GDS            193\n",
            "Undefined        5\n",
            "Name: count, dtype: int64\n",
            "  Potential issues: []\n",
            "\n",
            "reserved_room_type - Unique Values (10):\n",
            "reserved_room_type\n",
            "A    85994\n",
            "D    19201\n",
            "E     6535\n",
            "F     2897\n",
            "G     2094\n",
            "B     1118\n",
            "C      932\n",
            "H      601\n",
            "P       12\n",
            "L        6\n",
            "Name: count, dtype: int64\n",
            "  Potential issues: []\n",
            "\n",
            "assigned_room_type - Unique Values (12):\n",
            "assigned_room_type\n",
            "A    74053\n",
            "D    25322\n",
            "E     7806\n",
            "F     3751\n",
            "G     2553\n",
            "C     2375\n",
            "B     2163\n",
            "H      712\n",
            "I      363\n",
            "K      279\n",
            "P       12\n",
            "L        1\n",
            "Name: count, dtype: int64\n",
            "  Potential issues: []\n",
            "\n",
            "deposit_type - Unique Values (3):\n",
            "deposit_type\n",
            "No Deposit    104641\n",
            "Non Refund     14587\n",
            "Refundable       162\n",
            "Name: count, dtype: int64\n",
            "  Potential issues: ['No Deposit', 'Non Refund']\n",
            "\n",
            "customer_type - Unique Values (4):\n",
            "customer_type\n",
            "Transient          89613\n",
            "Transient-Party    25124\n",
            "Contract            4076\n",
            "Group                577\n",
            "Name: count, dtype: int64\n",
            "  Potential issues: []\n",
            "\n",
            "reservation_status - Unique Values (3):\n",
            "reservation_status\n",
            "Check-Out    75166\n",
            "Canceled     43017\n",
            "No-Show       1207\n",
            "Name: count, dtype: int64\n",
            "  Potential issues: []\n",
            "\n",
            "reservation_status_date - Unique Values (926):\n",
            "reservation_status_date\n",
            "2015-10-21    1461\n",
            "2015-07-06     805\n",
            "2016-11-25     790\n",
            "2015-01-01     763\n",
            "2016-01-18     625\n",
            "              ... \n",
            "2015-02-26       1\n",
            "2015-03-18       1\n",
            "2015-03-12       1\n",
            "2015-03-11       1\n",
            "2015-06-14       1\n",
            "Name: count, Length: 926, dtype: int64\n",
            "  Potential issues: []\n"
          ]
        }
      ]
    },
    {
      "cell_type": "code",
      "source": [
        "df['total_guests'] = df['adults'] + df['children'].fillna(0) + df['babies']\n",
        "print(f\"\\nRows with 0 total guests: {df[df['total_guests'] == 0].shape[0]}\")"
      ],
      "metadata": {
        "colab": {
          "base_uri": "https://localhost:8080/"
        },
        "id": "gnh1D7wbeMuq",
        "outputId": "9c7c4b44-b393-47ef-ed00-410053f35a09"
      },
      "execution_count": 15,
      "outputs": [
        {
          "output_type": "stream",
          "name": "stdout",
          "text": [
            "\n",
            "Rows with 0 total guests: 180\n"
          ]
        }
      ]
    },
    {
      "cell_type": "code",
      "source": [
        "print(f\"\\nRows with negative ADR values: {df[df['adr'] < 0].shape[0]}\")"
      ],
      "metadata": {
        "colab": {
          "base_uri": "https://localhost:8080/"
        },
        "id": "4K6uLDEoeXFF",
        "outputId": "1edff07c-e3b7-4e23-9317-ff8bc5532b83"
      },
      "execution_count": 16,
      "outputs": [
        {
          "output_type": "stream",
          "name": "stdout",
          "text": [
            "\n",
            "Rows with negative ADR values: 1\n"
          ]
        }
      ]
    },
    {
      "cell_type": "markdown",
      "source": [
        "###Task 2: Data Cleaning Implementation"
      ],
      "metadata": {
        "id": "ukAG9DQtetpQ"
      }
    },
    {
      "cell_type": "markdown",
      "source": [
        "####Task 2.1: Handling Missing Values"
      ],
      "metadata": {
        "id": "3gPL3iC_e3LM"
      }
    },
    {
      "cell_type": "code",
      "source": [
        "# Handle missing values in 'children'\n",
        "print(\"Before imputation - children missing:\", df['children'].isnull().sum())\n",
        "df['children'] = df['children'].fillna(0)\n",
        "print(\"After imputation - children missing:\", df['children'].isnull().sum())"
      ],
      "metadata": {
        "colab": {
          "base_uri": "https://localhost:8080/"
        },
        "id": "kcQIZg1ge5tR",
        "outputId": "c560a179-1a05-482c-b597-daa39fe6c2e6"
      },
      "execution_count": 17,
      "outputs": [
        {
          "output_type": "stream",
          "name": "stdout",
          "text": [
            "Before imputation - children missing: 4\n",
            "After imputation - children missing: 0\n"
          ]
        }
      ]
    },
    {
      "cell_type": "code",
      "source": [
        "# Investigate missing patterns in 'country'\n",
        "print(\"Before imputation - country missing:\", df['country'].isnull().sum())\n",
        "print(\"Most common country:\", df['country'].mode()[0])\n",
        "\n",
        "# Impute missing values in 'country' with mode\n",
        "df['country'] = df['country'].fillna(df['country'].mode()[0])\n",
        "print(\"After imputation - country missing:\", df['country'].isnull().sum())"
      ],
      "metadata": {
        "colab": {
          "base_uri": "https://localhost:8080/"
        },
        "id": "hbqyYVs-fHr2",
        "outputId": "752eba42-a070-48bf-fcc0-1d26bed94311"
      },
      "execution_count": 18,
      "outputs": [
        {
          "output_type": "stream",
          "name": "stdout",
          "text": [
            "Before imputation - country missing: 488\n",
            "Most common country: PRT\n",
            "After imputation - country missing: 0\n"
          ]
        }
      ]
    },
    {
      "cell_type": "code",
      "source": [
        "print(\"Before imputation - agent missing:\", df['agent'].isnull().sum())\n",
        "df['agent'] = df['agent'].fillna(0)\n",
        "print(\"After imputation - agent missing:\", df['agent'].isnull().sum())"
      ],
      "metadata": {
        "colab": {
          "base_uri": "https://localhost:8080/"
        },
        "id": "E3wipYhyfOXu",
        "outputId": "4fcfbd58-0b85-4b45-8e33-7ab3809b5acf"
      },
      "execution_count": 19,
      "outputs": [
        {
          "output_type": "stream",
          "name": "stdout",
          "text": [
            "Before imputation - agent missing: 16340\n",
            "After imputation - agent missing: 0\n"
          ]
        }
      ]
    },
    {
      "cell_type": "code",
      "source": [
        "print(\"Before imputation - company missing:\", df['company'].isnull().sum())\n",
        "df['company'] = df['company'].fillna(0)\n",
        "print(\"After imputation - company missing:\", df['company'].isnull().sum())"
      ],
      "metadata": {
        "colab": {
          "base_uri": "https://localhost:8080/"
        },
        "id": "NAjIcQmhfVu9",
        "outputId": "10a8c48e-3294-4f5a-94d9-b580b9b844c3"
      },
      "execution_count": 20,
      "outputs": [
        {
          "output_type": "stream",
          "name": "stdout",
          "text": [
            "Before imputation - company missing: 112593\n",
            "After imputation - company missing: 0\n"
          ]
        }
      ]
    },
    {
      "cell_type": "code",
      "source": [
        "group_median = df.groupby(['hotel', 'customer_type'])['children'].median()\n",
        "\n",
        "def impute_children(row):\n",
        "    if pd.isna(row['children']):\n",
        "        return group_median.get((row['hotel'], row['customer_type']), 0)\n",
        "    else:\n",
        "        return row['children']\n",
        "\n",
        "df['children'] = df.apply(impute_children, axis=1)"
      ],
      "metadata": {
        "id": "1dA_9yp_ftt8"
      },
      "execution_count": 21,
      "outputs": []
    },
    {
      "cell_type": "markdown",
      "source": [
        "####Task 2.2: Duplicate Detection and Removal"
      ],
      "metadata": {
        "id": "LTgsQlIRgUAq"
      }
    },
    {
      "cell_type": "code",
      "source": [
        "# Check for exact duplicates\n",
        "duplicates = df.duplicated()\n",
        "print(f\"Number of exact duplicates: {duplicates.sum()}\")"
      ],
      "metadata": {
        "colab": {
          "base_uri": "https://localhost:8080/"
        },
        "id": "DfYwmt5QgWhF",
        "outputId": "add078fe-be37-4ed9-f36a-f50c70ba8674"
      },
      "execution_count": 22,
      "outputs": [
        {
          "output_type": "stream",
          "name": "stdout",
          "text": [
            "Number of exact duplicates: 32013\n"
          ]
        }
      ]
    },
    {
      "cell_type": "code",
      "source": [
        "df[duplicates].head()"
      ],
      "metadata": {
        "colab": {
          "base_uri": "https://localhost:8080/",
          "height": 342
        },
        "id": "B_IySXO4gzRB",
        "outputId": "35a4080d-6f40-43eb-e119-cc1c05da5dd3"
      },
      "execution_count": 23,
      "outputs": [
        {
          "output_type": "execute_result",
          "data": {
            "text/plain": [
              "            hotel  is_canceled  lead_time  arrival_date_year  \\\n",
              "5    Resort Hotel            0         14               2015   \n",
              "22   Resort Hotel            0         72               2015   \n",
              "43   Resort Hotel            0         70               2015   \n",
              "138  Resort Hotel            1          5               2015   \n",
              "200  Resort Hotel            0          0               2015   \n",
              "\n",
              "    arrival_date_month  arrival_date_week_number  arrival_date_day_of_month  \\\n",
              "5                 July                        27                          1   \n",
              "22                July                        27                          1   \n",
              "43                July                        27                          2   \n",
              "138               July                        28                          5   \n",
              "200               July                        28                          7   \n",
              "\n",
              "     stays_in_weekend_nights  stays_in_week_nights  adults  ...  agent  \\\n",
              "5                          0                     2       2  ...  240.0   \n",
              "22                         2                     4       2  ...  250.0   \n",
              "43                         2                     3       2  ...  250.0   \n",
              "138                        1                     0       2  ...  240.0   \n",
              "200                        0                     1       1  ...  240.0   \n",
              "\n",
              "     company days_in_waiting_list customer_type     adr  \\\n",
              "5        0.0                    0     Transient   98.00   \n",
              "22       0.0                    0     Transient   84.67   \n",
              "43       0.0                    0     Transient  137.00   \n",
              "138      0.0                    0     Transient   97.00   \n",
              "200      0.0                    0     Transient  109.80   \n",
              "\n",
              "    required_car_parking_spaces  total_of_special_requests  \\\n",
              "5                             0                          1   \n",
              "22                            0                          1   \n",
              "43                            0                          1   \n",
              "138                           0                          0   \n",
              "200                           0                          3   \n",
              "\n",
              "     reservation_status  reservation_status_date total_guests  \n",
              "5             Check-Out               2015-07-03          2.0  \n",
              "22            Check-Out               2015-07-07          2.0  \n",
              "43            Check-Out               2015-07-07          2.0  \n",
              "138            Canceled               2015-07-01          2.0  \n",
              "200           Check-Out               2015-07-08          1.0  \n",
              "\n",
              "[5 rows x 33 columns]"
            ],
            "text/html": [
              "\n",
              "  <div id=\"df-ea8597fd-3865-4d50-897a-1755e4289ed2\" class=\"colab-df-container\">\n",
              "    <div>\n",
              "<style scoped>\n",
              "    .dataframe tbody tr th:only-of-type {\n",
              "        vertical-align: middle;\n",
              "    }\n",
              "\n",
              "    .dataframe tbody tr th {\n",
              "        vertical-align: top;\n",
              "    }\n",
              "\n",
              "    .dataframe thead th {\n",
              "        text-align: right;\n",
              "    }\n",
              "</style>\n",
              "<table border=\"1\" class=\"dataframe\">\n",
              "  <thead>\n",
              "    <tr style=\"text-align: right;\">\n",
              "      <th></th>\n",
              "      <th>hotel</th>\n",
              "      <th>is_canceled</th>\n",
              "      <th>lead_time</th>\n",
              "      <th>arrival_date_year</th>\n",
              "      <th>arrival_date_month</th>\n",
              "      <th>arrival_date_week_number</th>\n",
              "      <th>arrival_date_day_of_month</th>\n",
              "      <th>stays_in_weekend_nights</th>\n",
              "      <th>stays_in_week_nights</th>\n",
              "      <th>adults</th>\n",
              "      <th>...</th>\n",
              "      <th>agent</th>\n",
              "      <th>company</th>\n",
              "      <th>days_in_waiting_list</th>\n",
              "      <th>customer_type</th>\n",
              "      <th>adr</th>\n",
              "      <th>required_car_parking_spaces</th>\n",
              "      <th>total_of_special_requests</th>\n",
              "      <th>reservation_status</th>\n",
              "      <th>reservation_status_date</th>\n",
              "      <th>total_guests</th>\n",
              "    </tr>\n",
              "  </thead>\n",
              "  <tbody>\n",
              "    <tr>\n",
              "      <th>5</th>\n",
              "      <td>Resort Hotel</td>\n",
              "      <td>0</td>\n",
              "      <td>14</td>\n",
              "      <td>2015</td>\n",
              "      <td>July</td>\n",
              "      <td>27</td>\n",
              "      <td>1</td>\n",
              "      <td>0</td>\n",
              "      <td>2</td>\n",
              "      <td>2</td>\n",
              "      <td>...</td>\n",
              "      <td>240.0</td>\n",
              "      <td>0.0</td>\n",
              "      <td>0</td>\n",
              "      <td>Transient</td>\n",
              "      <td>98.00</td>\n",
              "      <td>0</td>\n",
              "      <td>1</td>\n",
              "      <td>Check-Out</td>\n",
              "      <td>2015-07-03</td>\n",
              "      <td>2.0</td>\n",
              "    </tr>\n",
              "    <tr>\n",
              "      <th>22</th>\n",
              "      <td>Resort Hotel</td>\n",
              "      <td>0</td>\n",
              "      <td>72</td>\n",
              "      <td>2015</td>\n",
              "      <td>July</td>\n",
              "      <td>27</td>\n",
              "      <td>1</td>\n",
              "      <td>2</td>\n",
              "      <td>4</td>\n",
              "      <td>2</td>\n",
              "      <td>...</td>\n",
              "      <td>250.0</td>\n",
              "      <td>0.0</td>\n",
              "      <td>0</td>\n",
              "      <td>Transient</td>\n",
              "      <td>84.67</td>\n",
              "      <td>0</td>\n",
              "      <td>1</td>\n",
              "      <td>Check-Out</td>\n",
              "      <td>2015-07-07</td>\n",
              "      <td>2.0</td>\n",
              "    </tr>\n",
              "    <tr>\n",
              "      <th>43</th>\n",
              "      <td>Resort Hotel</td>\n",
              "      <td>0</td>\n",
              "      <td>70</td>\n",
              "      <td>2015</td>\n",
              "      <td>July</td>\n",
              "      <td>27</td>\n",
              "      <td>2</td>\n",
              "      <td>2</td>\n",
              "      <td>3</td>\n",
              "      <td>2</td>\n",
              "      <td>...</td>\n",
              "      <td>250.0</td>\n",
              "      <td>0.0</td>\n",
              "      <td>0</td>\n",
              "      <td>Transient</td>\n",
              "      <td>137.00</td>\n",
              "      <td>0</td>\n",
              "      <td>1</td>\n",
              "      <td>Check-Out</td>\n",
              "      <td>2015-07-07</td>\n",
              "      <td>2.0</td>\n",
              "    </tr>\n",
              "    <tr>\n",
              "      <th>138</th>\n",
              "      <td>Resort Hotel</td>\n",
              "      <td>1</td>\n",
              "      <td>5</td>\n",
              "      <td>2015</td>\n",
              "      <td>July</td>\n",
              "      <td>28</td>\n",
              "      <td>5</td>\n",
              "      <td>1</td>\n",
              "      <td>0</td>\n",
              "      <td>2</td>\n",
              "      <td>...</td>\n",
              "      <td>240.0</td>\n",
              "      <td>0.0</td>\n",
              "      <td>0</td>\n",
              "      <td>Transient</td>\n",
              "      <td>97.00</td>\n",
              "      <td>0</td>\n",
              "      <td>0</td>\n",
              "      <td>Canceled</td>\n",
              "      <td>2015-07-01</td>\n",
              "      <td>2.0</td>\n",
              "    </tr>\n",
              "    <tr>\n",
              "      <th>200</th>\n",
              "      <td>Resort Hotel</td>\n",
              "      <td>0</td>\n",
              "      <td>0</td>\n",
              "      <td>2015</td>\n",
              "      <td>July</td>\n",
              "      <td>28</td>\n",
              "      <td>7</td>\n",
              "      <td>0</td>\n",
              "      <td>1</td>\n",
              "      <td>1</td>\n",
              "      <td>...</td>\n",
              "      <td>240.0</td>\n",
              "      <td>0.0</td>\n",
              "      <td>0</td>\n",
              "      <td>Transient</td>\n",
              "      <td>109.80</td>\n",
              "      <td>0</td>\n",
              "      <td>3</td>\n",
              "      <td>Check-Out</td>\n",
              "      <td>2015-07-08</td>\n",
              "      <td>1.0</td>\n",
              "    </tr>\n",
              "  </tbody>\n",
              "</table>\n",
              "<p>5 rows × 33 columns</p>\n",
              "</div>\n",
              "    <div class=\"colab-df-buttons\">\n",
              "\n",
              "  <div class=\"colab-df-container\">\n",
              "    <button class=\"colab-df-convert\" onclick=\"convertToInteractive('df-ea8597fd-3865-4d50-897a-1755e4289ed2')\"\n",
              "            title=\"Convert this dataframe to an interactive table.\"\n",
              "            style=\"display:none;\">\n",
              "\n",
              "  <svg xmlns=\"http://www.w3.org/2000/svg\" height=\"24px\" viewBox=\"0 -960 960 960\">\n",
              "    <path d=\"M120-120v-720h720v720H120Zm60-500h600v-160H180v160Zm220 220h160v-160H400v160Zm0 220h160v-160H400v160ZM180-400h160v-160H180v160Zm440 0h160v-160H620v160ZM180-180h160v-160H180v160Zm440 0h160v-160H620v160Z\"/>\n",
              "  </svg>\n",
              "    </button>\n",
              "\n",
              "  <style>\n",
              "    .colab-df-container {\n",
              "      display:flex;\n",
              "      gap: 12px;\n",
              "    }\n",
              "\n",
              "    .colab-df-convert {\n",
              "      background-color: #E8F0FE;\n",
              "      border: none;\n",
              "      border-radius: 50%;\n",
              "      cursor: pointer;\n",
              "      display: none;\n",
              "      fill: #1967D2;\n",
              "      height: 32px;\n",
              "      padding: 0 0 0 0;\n",
              "      width: 32px;\n",
              "    }\n",
              "\n",
              "    .colab-df-convert:hover {\n",
              "      background-color: #E2EBFA;\n",
              "      box-shadow: 0px 1px 2px rgba(60, 64, 67, 0.3), 0px 1px 3px 1px rgba(60, 64, 67, 0.15);\n",
              "      fill: #174EA6;\n",
              "    }\n",
              "\n",
              "    .colab-df-buttons div {\n",
              "      margin-bottom: 4px;\n",
              "    }\n",
              "\n",
              "    [theme=dark] .colab-df-convert {\n",
              "      background-color: #3B4455;\n",
              "      fill: #D2E3FC;\n",
              "    }\n",
              "\n",
              "    [theme=dark] .colab-df-convert:hover {\n",
              "      background-color: #434B5C;\n",
              "      box-shadow: 0px 1px 3px 1px rgba(0, 0, 0, 0.15);\n",
              "      filter: drop-shadow(0px 1px 2px rgba(0, 0, 0, 0.3));\n",
              "      fill: #FFFFFF;\n",
              "    }\n",
              "  </style>\n",
              "\n",
              "    <script>\n",
              "      const buttonEl =\n",
              "        document.querySelector('#df-ea8597fd-3865-4d50-897a-1755e4289ed2 button.colab-df-convert');\n",
              "      buttonEl.style.display =\n",
              "        google.colab.kernel.accessAllowed ? 'block' : 'none';\n",
              "\n",
              "      async function convertToInteractive(key) {\n",
              "        const element = document.querySelector('#df-ea8597fd-3865-4d50-897a-1755e4289ed2');\n",
              "        const dataTable =\n",
              "          await google.colab.kernel.invokeFunction('convertToInteractive',\n",
              "                                                    [key], {});\n",
              "        if (!dataTable) return;\n",
              "\n",
              "        const docLinkHtml = 'Like what you see? Visit the ' +\n",
              "          '<a target=\"_blank\" href=https://colab.research.google.com/notebooks/data_table.ipynb>data table notebook</a>'\n",
              "          + ' to learn more about interactive tables.';\n",
              "        element.innerHTML = '';\n",
              "        dataTable['output_type'] = 'display_data';\n",
              "        await google.colab.output.renderOutput(dataTable, element);\n",
              "        const docLink = document.createElement('div');\n",
              "        docLink.innerHTML = docLinkHtml;\n",
              "        element.appendChild(docLink);\n",
              "      }\n",
              "    </script>\n",
              "  </div>\n",
              "\n",
              "\n",
              "    <div id=\"df-bf69390e-fe0b-4c51-99ff-92f1cc2445e2\">\n",
              "      <button class=\"colab-df-quickchart\" onclick=\"quickchart('df-bf69390e-fe0b-4c51-99ff-92f1cc2445e2')\"\n",
              "                title=\"Suggest charts\"\n",
              "                style=\"display:none;\">\n",
              "\n",
              "<svg xmlns=\"http://www.w3.org/2000/svg\" height=\"24px\"viewBox=\"0 0 24 24\"\n",
              "     width=\"24px\">\n",
              "    <g>\n",
              "        <path d=\"M19 3H5c-1.1 0-2 .9-2 2v14c0 1.1.9 2 2 2h14c1.1 0 2-.9 2-2V5c0-1.1-.9-2-2-2zM9 17H7v-7h2v7zm4 0h-2V7h2v10zm4 0h-2v-4h2v4z\"/>\n",
              "    </g>\n",
              "</svg>\n",
              "      </button>\n",
              "\n",
              "<style>\n",
              "  .colab-df-quickchart {\n",
              "      --bg-color: #E8F0FE;\n",
              "      --fill-color: #1967D2;\n",
              "      --hover-bg-color: #E2EBFA;\n",
              "      --hover-fill-color: #174EA6;\n",
              "      --disabled-fill-color: #AAA;\n",
              "      --disabled-bg-color: #DDD;\n",
              "  }\n",
              "\n",
              "  [theme=dark] .colab-df-quickchart {\n",
              "      --bg-color: #3B4455;\n",
              "      --fill-color: #D2E3FC;\n",
              "      --hover-bg-color: #434B5C;\n",
              "      --hover-fill-color: #FFFFFF;\n",
              "      --disabled-bg-color: #3B4455;\n",
              "      --disabled-fill-color: #666;\n",
              "  }\n",
              "\n",
              "  .colab-df-quickchart {\n",
              "    background-color: var(--bg-color);\n",
              "    border: none;\n",
              "    border-radius: 50%;\n",
              "    cursor: pointer;\n",
              "    display: none;\n",
              "    fill: var(--fill-color);\n",
              "    height: 32px;\n",
              "    padding: 0;\n",
              "    width: 32px;\n",
              "  }\n",
              "\n",
              "  .colab-df-quickchart:hover {\n",
              "    background-color: var(--hover-bg-color);\n",
              "    box-shadow: 0 1px 2px rgba(60, 64, 67, 0.3), 0 1px 3px 1px rgba(60, 64, 67, 0.15);\n",
              "    fill: var(--button-hover-fill-color);\n",
              "  }\n",
              "\n",
              "  .colab-df-quickchart-complete:disabled,\n",
              "  .colab-df-quickchart-complete:disabled:hover {\n",
              "    background-color: var(--disabled-bg-color);\n",
              "    fill: var(--disabled-fill-color);\n",
              "    box-shadow: none;\n",
              "  }\n",
              "\n",
              "  .colab-df-spinner {\n",
              "    border: 2px solid var(--fill-color);\n",
              "    border-color: transparent;\n",
              "    border-bottom-color: var(--fill-color);\n",
              "    animation:\n",
              "      spin 1s steps(1) infinite;\n",
              "  }\n",
              "\n",
              "  @keyframes spin {\n",
              "    0% {\n",
              "      border-color: transparent;\n",
              "      border-bottom-color: var(--fill-color);\n",
              "      border-left-color: var(--fill-color);\n",
              "    }\n",
              "    20% {\n",
              "      border-color: transparent;\n",
              "      border-left-color: var(--fill-color);\n",
              "      border-top-color: var(--fill-color);\n",
              "    }\n",
              "    30% {\n",
              "      border-color: transparent;\n",
              "      border-left-color: var(--fill-color);\n",
              "      border-top-color: var(--fill-color);\n",
              "      border-right-color: var(--fill-color);\n",
              "    }\n",
              "    40% {\n",
              "      border-color: transparent;\n",
              "      border-right-color: var(--fill-color);\n",
              "      border-top-color: var(--fill-color);\n",
              "    }\n",
              "    60% {\n",
              "      border-color: transparent;\n",
              "      border-right-color: var(--fill-color);\n",
              "    }\n",
              "    80% {\n",
              "      border-color: transparent;\n",
              "      border-right-color: var(--fill-color);\n",
              "      border-bottom-color: var(--fill-color);\n",
              "    }\n",
              "    90% {\n",
              "      border-color: transparent;\n",
              "      border-bottom-color: var(--fill-color);\n",
              "    }\n",
              "  }\n",
              "</style>\n",
              "\n",
              "      <script>\n",
              "        async function quickchart(key) {\n",
              "          const quickchartButtonEl =\n",
              "            document.querySelector('#' + key + ' button');\n",
              "          quickchartButtonEl.disabled = true;  // To prevent multiple clicks.\n",
              "          quickchartButtonEl.classList.add('colab-df-spinner');\n",
              "          try {\n",
              "            const charts = await google.colab.kernel.invokeFunction(\n",
              "                'suggestCharts', [key], {});\n",
              "          } catch (error) {\n",
              "            console.error('Error during call to suggestCharts:', error);\n",
              "          }\n",
              "          quickchartButtonEl.classList.remove('colab-df-spinner');\n",
              "          quickchartButtonEl.classList.add('colab-df-quickchart-complete');\n",
              "        }\n",
              "        (() => {\n",
              "          let quickchartButtonEl =\n",
              "            document.querySelector('#df-bf69390e-fe0b-4c51-99ff-92f1cc2445e2 button');\n",
              "          quickchartButtonEl.style.display =\n",
              "            google.colab.kernel.accessAllowed ? 'block' : 'none';\n",
              "        })();\n",
              "      </script>\n",
              "    </div>\n",
              "\n",
              "    </div>\n",
              "  </div>\n"
            ],
            "application/vnd.google.colaboratory.intrinsic+json": {
              "type": "dataframe"
            }
          },
          "metadata": {},
          "execution_count": 23
        }
      ]
    },
    {
      "cell_type": "code",
      "source": [
        "duplicates_removed = duplicates.sum()"
      ],
      "metadata": {
        "id": "n6mYQ9b6hyNo"
      },
      "execution_count": 24,
      "outputs": []
    },
    {
      "cell_type": "code",
      "source": [
        "df = df.drop_duplicates()\n",
        "print(\"Duplicates removed. New dataset shape:\", df.shape)\n",
        "print(f\"Number of duplicate rows removed: {duplicates_removed}\")"
      ],
      "metadata": {
        "colab": {
          "base_uri": "https://localhost:8080/"
        },
        "id": "ixhzvrW-g4Sj",
        "outputId": "a3ccff65-2465-4e3c-bf36-b949d8f3980f"
      },
      "execution_count": 25,
      "outputs": [
        {
          "output_type": "stream",
          "name": "stdout",
          "text": [
            "Duplicates removed. New dataset shape: (87377, 33)\n",
            "Number of duplicate rows removed: 32013\n"
          ]
        }
      ]
    },
    {
      "cell_type": "code",
      "source": [
        "# Check near-duplicates based on selected key columns\n",
        "subset_cols = ['hotel', 'arrival_date_year', 'arrival_date_month', 'arrival_date_day_of_month',\n",
        "               'lead_time', 'adults', 'children', 'babies']\n",
        "\n",
        "near_duplicates = df.duplicated(subset=subset_cols)\n",
        "print(f\"Potential near-duplicates based on key columns: {near_duplicates.sum()}\")"
      ],
      "metadata": {
        "colab": {
          "base_uri": "https://localhost:8080/"
        },
        "id": "wkKifliIg-K-",
        "outputId": "50996fe6-5089-4dd8-dcbd-2f53c47a7547"
      },
      "execution_count": 26,
      "outputs": [
        {
          "output_type": "stream",
          "name": "stdout",
          "text": [
            "Potential near-duplicates based on key columns: 23287\n"
          ]
        }
      ]
    },
    {
      "cell_type": "markdown",
      "source": [
        "####Task 2.3: Outlier Detection and Treatment"
      ],
      "metadata": {
        "id": "ZPRBlWZrkKUg"
      }
    },
    {
      "cell_type": "code",
      "source": [
        "numerical_cols = ['lead_time', 'stays_in_weekend_nights', 'stays_in_week_nights',\n",
        "                  'adults', 'children', 'babies', 'adr']\n",
        "\n",
        "# IQR-based outlier detection\n",
        "print(\"\\nIQR Outlier Detection:\")\n",
        "for col in numerical_cols:\n",
        "    Q1 = df[col].quantile(0.25)\n",
        "    Q3 = df[col].quantile(0.75)\n",
        "    IQR = Q3 - Q1\n",
        "    lower_bound = Q1 - 1.5 * IQR\n",
        "    upper_bound = Q3 + 1.5 * IQR\n",
        "    outliers = df[(df[col] < lower_bound) | (df[col] > upper_bound)]\n",
        "    print(f\"{col}: {len(outliers)} outliers\")\n"
      ],
      "metadata": {
        "colab": {
          "base_uri": "https://localhost:8080/"
        },
        "id": "CloxszuPkNFB",
        "outputId": "c3b15ae2-4b4c-460e-afc0-0d54a79ad09e"
      },
      "execution_count": 27,
      "outputs": [
        {
          "output_type": "stream",
          "name": "stdout",
          "text": [
            "\n",
            "IQR Outlier Detection:\n",
            "lead_time: 2396 outliers\n",
            "stays_in_weekend_nights: 220 outliers\n",
            "stays_in_week_nights: 1531 outliers\n",
            "adults: 22887 outliers\n",
            "children: 8364 outliers\n",
            "babies: 914 outliers\n",
            "adr: 2488 outliers\n"
          ]
        }
      ]
    },
    {
      "cell_type": "code",
      "source": [
        "from scipy.stats import zscore\n",
        "\n",
        "# Z-score outlier detection (threshold = 3)\n",
        "print(\"\\nZ-Score Outlier Detection (|z| > 3):\")\n",
        "z_scores = df[numerical_cols].apply(zscore)\n",
        "\n",
        "for col in numerical_cols:\n",
        "    outliers = df[(z_scores[col].abs() > 3)]\n",
        "    print(f\"{col}: {len(outliers)} outliers\")"
      ],
      "metadata": {
        "colab": {
          "base_uri": "https://localhost:8080/"
        },
        "id": "1wn3D4D_kVaD",
        "outputId": "4a683474-4330-4ef7-fca5-ad02ca93d403"
      },
      "execution_count": 28,
      "outputs": [
        {
          "output_type": "stream",
          "name": "stdout",
          "text": [
            "\n",
            "Z-Score Outlier Detection (|z| > 3):\n",
            "lead_time: 1049 outliers\n",
            "stays_in_weekend_nights: 290 outliers\n",
            "stays_in_week_nights: 1531 outliers\n",
            "adults: 76 outliers\n",
            "children: 3669 outliers\n",
            "babies: 914 outliers\n",
            "adr: 626 outliers\n"
          ]
        }
      ]
    },
    {
      "cell_type": "code",
      "source": [
        "#Boxplot Visualization\n",
        "fig, axes = plt.subplots(4, 2, figsize=(15, 18))\n",
        "fig.suptitle(\"Boxplots for Outlier Detection\", fontsize=16)\n",
        "\n",
        "for i, col in enumerate(numerical_cols):\n",
        "    row = i // 2\n",
        "    col_pos = i % 2\n",
        "    sns.boxplot(x=df[col], ax=axes[row][col_pos])\n",
        "    axes[row][col_pos].set_title(col)\n",
        "\n",
        "plt.tight_layout()\n",
        "plt.show()\n"
      ],
      "metadata": {
        "colab": {
          "base_uri": "https://localhost:8080/",
          "height": 1000
        },
        "id": "tIo9VwFEkblj",
        "outputId": "1d19daf3-43df-445b-c77a-f7ec5b54072d"
      },
      "execution_count": 29,
      "outputs": [
        {
          "output_type": "display_data",
          "data": {
            "text/plain": [
              "<Figure size 1500x1800 with 8 Axes>"
            ],
            "image/png": "[encoded data removed]"
          },
          "metadata": {}
        }
      ]
    },
    {
      "cell_type": "code",
      "source": [
        "# Remove extreme ADR outliers\n",
        "print(\"Before removal - rows with ADR > 5000:\", df[df['adr'] > 5000].shape[0])\n",
        "df = df[df['adr'] <= 5000]\n",
        "print(\"After removal - dataset shape:\", df.shape)"
      ],
      "metadata": {
        "colab": {
          "base_uri": "https://localhost:8080/"
        },
        "id": "TTKsHgGokunU",
        "outputId": "84a7a61f-caf2-4b7f-a6b6-4c9362b695bc"
      },
      "execution_count": 30,
      "outputs": [
        {
          "output_type": "stream",
          "name": "stdout",
          "text": [
            "Before removal - rows with ADR > 5000: 1\n",
            "After removal - dataset shape: (87376, 33)\n"
          ]
        }
      ]
    },
    {
      "cell_type": "markdown",
      "source": [
        "####Task 2.4: Data Inconsistency Fixes"
      ],
      "metadata": {
        "id": "KfPpj_G8mL8U"
      }
    },
    {
      "cell_type": "code",
      "source": [
        "columns_to_fix = ['country', 'meal', 'market_segment', 'distribution_channel',\n",
        "                  'customer_type', 'deposit_type', 'assigned_room_type', 'reservation_status']\n",
        "\n",
        "for col in columns_to_fix:\n",
        "    df[col] = df[col].astype(str).str.strip().str.title()"
      ],
      "metadata": {
        "id": "X2pSea-NmT0R"
      },
      "execution_count": 31,
      "outputs": []
    },
    {
      "cell_type": "code",
      "source": [
        "df['country'] = df['country'].str.strip().str.upper()\n",
        "df['assigned_room_type'] = df['assigned_room_type'].str.strip().str.upper()\n",
        "df['reserved_room_type'] = df['reserved_room_type'].str.strip().str.upper()\n",
        "df['meal'] = df['meal'].str.strip().str.upper()"
      ],
      "metadata": {
        "id": "rLvQVBboD2Ze"
      },
      "execution_count": 32,
      "outputs": []
    },
    {
      "cell_type": "code",
      "source": [
        "df['arrival_date'] = pd.to_datetime(df['arrival_date_year'].astype(str) + '-' +\n",
        "                                     df['arrival_date_month'] + '-' +\n",
        "                                     df['arrival_date_day_of_month'].astype(str),\n",
        "                                     format='%Y-%B-%d')"
      ],
      "metadata": {
        "id": "QrK7CO1FD7OT"
      },
      "execution_count": 33,
      "outputs": []
    },
    {
      "cell_type": "code",
      "source": [
        "# Remove rows where adults, children, and babies are all 0\n",
        "invalid_guests = df[(df['adults'] == 0) & (df['children'] == 0) & (df['babies'] == 0)]\n",
        "print(f\"Rows with 0 guests: {invalid_guests.shape[0]}\")\n",
        "\n",
        "# Drop those rows\n",
        "df = df.drop(invalid_guests.index)\n",
        "print(\"After removing invalid guest rows:\", df.shape)"
      ],
      "metadata": {
        "colab": {
          "base_uri": "https://localhost:8080/"
        },
        "id": "Amhr4z4gEEwq",
        "outputId": "97683880-005e-4565-83bc-f91ad873008d"
      },
      "execution_count": 34,
      "outputs": [
        {
          "output_type": "stream",
          "name": "stdout",
          "text": [
            "Rows with 0 guests: 166\n",
            "After removing invalid guest rows: (87210, 34)\n"
          ]
        }
      ]
    },
    {
      "cell_type": "code",
      "source": [
        "# Remove rows with negative values in key columns\n",
        "cols = ['lead_time', 'adr', 'stays_in_weekend_nights', 'stays_in_week_nights', 'adults', 'children', 'babies']\n",
        "for col in cols:\n",
        "    print(f\"{col} - Negative values: {df[df[col] < 0].shape[0]}\")\n",
        "\n",
        "\n",
        "df = df[(df['lead_time'] >= 0) &\n",
        "        (df['adr'] >= 0) &\n",
        "        (df['stays_in_weekend_nights'] >= 0) &\n",
        "        (df['stays_in_week_nights'] >= 0) &\n",
        "        (df['adults'] >= 0) &\n",
        "        (df['children'] >= 0) &\n",
        "        (df['babies'] >= 0)]\n",
        "print(\"After removing rows with negative values:\", df.shape)"
      ],
      "metadata": {
        "colab": {
          "base_uri": "https://localhost:8080/"
        },
        "id": "LC0tsGrdEkbc",
        "outputId": "f13e1510-4bdf-4506-d248-b945be9a4ebd"
      },
      "execution_count": 36,
      "outputs": [
        {
          "output_type": "stream",
          "name": "stdout",
          "text": [
            "lead_time - Negative values: 0\n",
            "adr - Negative values: 0\n",
            "stays_in_weekend_nights - Negative values: 0\n",
            "stays_in_week_nights - Negative values: 0\n",
            "adults - Negative values: 0\n",
            "children - Negative values: 0\n",
            "babies - Negative values: 0\n",
            "After removing rows with negative values: (87209, 34)\n"
          ]
        }
      ]
    },
    {
      "cell_type": "code",
      "source": [
        "# Remove bookings with 0 nights that were not canceled\n",
        "zero_stay = df[(df['stays_in_weekend_nights'] == 0) &\n",
        "               (df['stays_in_week_nights'] == 0) &\n",
        "               (df['is_canceled'] == 0)]\n",
        "print(\"Bookings with 0 nights and not canceled:\", zero_stay.shape[0])\n",
        "\n",
        "df = df[~((df['stays_in_weekend_nights'] == 0) &\n",
        "          (df['stays_in_week_nights'] == 0) &\n",
        "          (df['is_canceled'] == 0))]\n",
        "print(\"After removing Bookings with 0 nights and not canceled rows:\", df.shape)"
      ],
      "metadata": {
        "colab": {
          "base_uri": "https://localhost:8080/"
        },
        "id": "6XnDAU_wF506",
        "outputId": "22aa1d66-ea4e-4cda-8e0b-1bb3aee547f7"
      },
      "execution_count": 37,
      "outputs": [
        {
          "output_type": "stream",
          "name": "stdout",
          "text": [
            "Bookings with 0 nights and not canceled: 568\n",
            "After removing Bookings with 0 nights and not canceled rows: (86641, 34)\n"
          ]
        }
      ]
    },
    {
      "cell_type": "code",
      "source": [
        "# Remove rows where ADR is 0 for active bookings\n",
        "adr_zero_invalid = df[(df['adr'] == 0) & (df['is_canceled'] == 0)]\n",
        "print(\"ADR = 0 for active bookings:\", adr_zero_invalid.shape[0])\n",
        "\n",
        "df = df[~((df['adr'] == 0) & (df['is_canceled'] == 0))]\n",
        "print(\"After removing rows with ADR 0 for active bookings:\", df.shape)"
      ],
      "metadata": {
        "colab": {
          "base_uri": "https://localhost:8080/"
        },
        "id": "QEgVHKXvGzKY",
        "outputId": "9b7fdcb4-4c51-4579-e25d-28ebfe96488e"
      },
      "execution_count": 38,
      "outputs": [
        {
          "output_type": "stream",
          "name": "stdout",
          "text": [
            "ADR = 0 for active bookings: 906\n",
            "After removing rows with ADR 0 for active bookings: (85735, 34)\n"
          ]
        }
      ]
    },
    {
      "cell_type": "code",
      "source": [
        "print(\"Final dataset shape after removing illogical rows:\", df.shape)"
      ],
      "metadata": {
        "colab": {
          "base_uri": "https://localhost:8080/"
        },
        "id": "61DXbxCeHTHn",
        "outputId": "dd889c71-371c-4190-fae6-5b5aadb7d32f"
      },
      "execution_count": 39,
      "outputs": [
        {
          "output_type": "stream",
          "name": "stdout",
          "text": [
            "Final dataset shape after removing illogical rows: (85735, 34)\n"
          ]
        }
      ]
    },
    {
      "cell_type": "markdown",
      "source": [
        "###Task 3: Data Validation and Documentation"
      ],
      "metadata": {
        "id": "4afkH3mkIDSK"
      }
    },
    {
      "cell_type": "markdown",
      "source": [
        "####Task 3.1: Data Integrity Checks"
      ],
      "metadata": {
        "id": "PgEx9iHBIH1M"
      }
    },
    {
      "cell_type": "code",
      "source": [
        "# Check that total guests > 0\n",
        "df['total_guests'] = df['adults'] + df['children'] + df['babies']\n",
        "invalid_guests = df[df['total_guests'] <= 0]\n",
        "print(\"Rows with total guests <= 0:\", invalid_guests.shape[0])"
      ],
      "metadata": {
        "colab": {
          "base_uri": "https://localhost:8080/"
        },
        "id": "W1RPKx8yINPB",
        "outputId": "b005b7c7-b444-459f-8e56-1bb8cdc500fa"
      },
      "execution_count": 40,
      "outputs": [
        {
          "output_type": "stream",
          "name": "stdout",
          "text": [
            "Rows with total guests <= 0: 0\n"
          ]
        }
      ]
    },
    {
      "cell_type": "code",
      "source": [
        "#Check that arrival dates are within expected range\n",
        "print(\"Arrival date range:\")\n",
        "print(\"Min:\", df['arrival_date'].min())\n",
        "print(\"Max:\", df['arrival_date'].max())"
      ],
      "metadata": {
        "colab": {
          "base_uri": "https://localhost:8080/"
        },
        "id": "5NqpF3hbITVB",
        "outputId": "2a51d558-d0bd-4a28-dadf-62a85a0a7f60"
      },
      "execution_count": 41,
      "outputs": [
        {
          "output_type": "stream",
          "name": "stdout",
          "text": [
            "Arrival date range:\n",
            "Min: 2015-07-01 00:00:00\n",
            "Max: 2017-08-31 00:00:00\n"
          ]
        }
      ]
    },
    {
      "cell_type": "markdown",
      "source": [
        "Based on the dataset description, hotel bookings span from **July 2015 to August 2017**."
      ],
      "metadata": {
        "id": "vPVoV8m4JLo8"
      }
    },
    {
      "cell_type": "code",
      "source": [
        "# Validate that numerical values are within reasonable ranges\n",
        "print(\"\\nRange checks:\")\n",
        "print(\"Adults max:\", df['adults'].max())\n",
        "print(\"Children max:\", df['children'].max())\n",
        "print(\"Babies max:\", df['babies'].max())\n",
        "print(\"ADR max:\", df['adr'].max())\n",
        "print(\"Lead Time max:\", df['lead_time'].max())"
      ],
      "metadata": {
        "colab": {
          "base_uri": "https://localhost:8080/"
        },
        "id": "t2BU9WnWId0-",
        "outputId": "dbd113a2-0d8c-42af-ec84-6b9ab47d623a"
      },
      "execution_count": 42,
      "outputs": [
        {
          "output_type": "stream",
          "name": "stdout",
          "text": [
            "\n",
            "Range checks:\n",
            "Adults max: 55\n",
            "Children max: 10.0\n",
            "Babies max: 10\n",
            "ADR max: 510.0\n",
            "Lead Time max: 709\n"
          ]
        }
      ]
    },
    {
      "cell_type": "code",
      "source": [
        "# Ensure categorical values are from expected sets\n",
        "for col in ['meal', 'market_segment', 'customer_type', 'deposit_type', 'reservation_status']:\n",
        "    print(f\"{col} unique values:\", df[col].unique())"
      ],
      "metadata": {
        "colab": {
          "base_uri": "https://localhost:8080/"
        },
        "id": "awUM6v06JZxD",
        "outputId": "5210d54f-923d-4829-8c65-22396b1560f0"
      },
      "execution_count": 43,
      "outputs": [
        {
          "output_type": "stream",
          "name": "stdout",
          "text": [
            "meal unique values: ['BB' 'FB' 'HB' 'SC' 'UNDEFINED']\n",
            "market_segment unique values: ['Direct' 'Corporate' 'Online Ta' 'Offline Ta/To' 'Groups' 'Complementary'\n",
            " 'Undefined' 'Aviation']\n",
            "customer_type unique values: ['Transient' 'Contract' 'Transient-Party' 'Group']\n",
            "deposit_type unique values: ['No Deposit' 'Refundable' 'Non Refund']\n",
            "reservation_status unique values: ['Check-Out' 'Canceled' 'No-Show']\n"
          ]
        }
      ]
    },
    {
      "cell_type": "markdown",
      "source": [
        "####Task 3.3: Final Dataset Preparation"
      ],
      "metadata": {
        "id": "_QsbANJ-LPNW"
      }
    },
    {
      "cell_type": "code",
      "source": [
        "final_df = df.copy()"
      ],
      "metadata": {
        "id": "uAxPLwNqLR-K"
      },
      "execution_count": 44,
      "outputs": []
    },
    {
      "cell_type": "code",
      "source": [
        "# Export to CSV\n",
        "final_df.to_csv('hotel_bookings_cleaned.csv', index=False)\n",
        "print(\"Cleaned dataset saved as 'hotel_bookings_cleaned.csv'\")"
      ],
      "metadata": {
        "colab": {
          "base_uri": "https://localhost:8080/"
        },
        "id": "iKo0deSrLXbq",
        "outputId": "28ea37ea-11d3-4929-efba-992036481616"
      },
      "execution_count": 45,
      "outputs": [
        {
          "output_type": "stream",
          "name": "stdout",
          "text": [
            "Cleaned dataset saved as 'hotel_bookings_cleaned.csv'\n"
          ]
        }
      ]
    },
    {
      "cell_type": "markdown",
      "source": [
        "#Data Dictionary – hotel_bookings_cleaned.csv\n",
        "\n",
        "| Column Name              | Description                                                         | Type        |\n",
        "|--------------------------|----------------------------------------------------------------------|-------------|\n",
        "| hotel                    | Hotel type (Resort Hotel or City Hotel)                             | Categorical |\n",
        "| is_canceled              | Whether the booking was canceled (1) or not (0)                      | Binary      |\n",
        "| lead_time                | Number of days between booking and arrival                           | Numerical   |\n",
        "| arrival_date             | Combined datetime of arrival (created from year, month, day)         | Date        |\n",
        "| stays_in_weekend_nights | Number of weekend nights stayed                                      | Numerical   |\n",
        "| stays_in_week_nights     | Number of weekday nights stayed                                      | Numerical   |\n",
        "| adults                   | Number of adults                                                     | Numerical   |\n",
        "| children                 | Number of children                                                   | Numerical   |\n",
        "| babies                   | Number of babies                                                     | Numerical   |\n",
        "| meal                     | Meal package selected (BB, HB, FB, SC, UNDEFINED)                    | Categorical |\n",
        "| country                  | Country of origin (ISO code)                                         | Categorical |\n",
        "| market_segment           | Booking source (e.g., Online TA, Corporate)                          | Categorical |\n",
        "| distribution_channel     | How booking info was transmitted                                     | Categorical |\n",
        "| is_repeated_guest        | Whether the guest has booked before                                  | Binary      |\n",
        "| previous_cancellations   | Number of previous cancellations                                     | Numerical   |\n",
        "| reserved_room_type       | Room type initially reserved                                         | Categorical |\n",
        "| assigned_room_type       | Room type actually assigned                                          | Categorical |\n",
        "| booking_changes          | Number of changes to the booking                                     | Numerical   |\n",
        "| deposit_type             | Type of deposit made                                                 | Categorical |\n",
        "| agent                    | ID of travel agent                                                   | Numerical   |\n",
        "| company                  | ID of company                                                        | Numerical   |\n",
        "| days_in_waiting_list     | Number of days booking was on waiting list                           | Numerical   |\n",
        "| customer_type            | Type of customer (e.g., Transient, Group)                            | Categorical |\n",
        "| adr                      | Average Daily Rate                                                   | Numerical   |\n",
        "| required_car_parking_spaces | Number of parking spaces requested                              | Numerical   |\n",
        "| total_of_special_requests| Number of special requests                                           | Numerical   |\n",
        "| reservation_status       | Final status (Check-Out, Canceled, No-Show)                          | Categorical |\n",
        "| reservation_status_date  | Date of last status update                                           | Date        |\n",
        "| total_guests             | Calculated total guests (adults + children + babies)                 | Numerical   |\n"
      ],
      "metadata": {
        "id": "dXocIacCLzHi"
      }
    }
  ]
}